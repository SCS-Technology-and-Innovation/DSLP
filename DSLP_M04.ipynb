{
  "nbformat": 4,
  "nbformat_minor": 0,
  "metadata": {
    "colab": {
      "provenance": [],
      "authorship_tag": "ABX9TyP24O/ANnh+ZjYii4eBT4DN",
      "include_colab_link": true
    },
    "kernelspec": {
      "name": "python3",
      "display_name": "Python 3"
    },
    "language_info": {
      "name": "python"
    }
  },
  "cells": [
    {
      "cell_type": "markdown",
      "metadata": {
        "id": "view-in-github",
        "colab_type": "text"
      },
      "source": [
        "<a href=\"https://colab.research.google.com/github/SCS-Technology-and-Innovation/DSLP/blob/main/DSLP_M04.ipynb\" target=\"_parent\"><img src=\"https://colab.research.google.com/assets/colab-badge.svg\" alt=\"Open In Colab\"/></a>"
      ]
    },
    {
      "cell_type": "markdown",
      "source": [
        "# Patterns\n",
        "\n",
        "It is often crucial to detect content that matches certain **patterns**: everything that might be a date, a temperature, a proper name, etc.\n",
        "\n",
        "Identifying such elements allows for a smoother and a more thorough process for tasks such as (machine-assisted) translation or localization.\n",
        "\n",
        "The most powerful tool for this task are **regular expressions** (often called *regex* for short)."
      ],
      "metadata": {
        "id": "miOp1ktt6kiM"
      }
    },
    {
      "cell_type": "code",
      "execution_count": null,
      "metadata": {
        "id": "HzO7AIvD6hTn"
      },
      "outputs": [],
      "source": [
        "content = \"The eldest cat, called Puff, was born on May 3rd, 2014, in a cardboard box under a tree. The youngest one, whom we call Happy, was born sometime in July of 2019... I found him on the 15th of the month as a newborn kitten!\""
      ]
    },
    {
      "cell_type": "markdown",
      "source": [
        "Let's start with an easy task: locate all four-digit numbers (since those might be years)."
      ],
      "metadata": {
        "id": "K8Ba54Bo7OVJ"
      }
    },
    {
      "cell_type": "code",
      "source": [
        "from re import search\n",
        "\n",
        "search('[0-9][0-9][0-9][0-9]', content)"
      ],
      "metadata": {
        "colab": {
          "base_uri": "https://localhost:8080/"
        },
        "id": "SaMPBKb_7Wi-",
        "outputId": "dc072c79-0cc6-4609-9080-004bb657f459"
      },
      "execution_count": null,
      "outputs": [
        {
          "output_type": "execute_result",
          "data": {
            "text/plain": [
              "<re.Match object; span=(50, 54), match='2014'>"
            ]
          },
          "metadata": {},
          "execution_count": 53
        }
      ]
    },
    {
      "cell_type": "markdown",
      "source": [
        "When we use `search`, we only get the first match."
      ],
      "metadata": {
        "id": "kjz7slaD9W8o"
      }
    },
    {
      "cell_type": "code",
      "source": [
        "from re import findall\n",
        "\n",
        "findall('[0-9][0-9][0-9][0-9]', content)"
      ],
      "metadata": {
        "colab": {
          "base_uri": "https://localhost:8080/"
        },
        "id": "J_bk3p_Z9bg1",
        "outputId": "05fcce6f-7c56-4dad-8df6-92e4d0d94399"
      },
      "execution_count": null,
      "outputs": [
        {
          "output_type": "execute_result",
          "data": {
            "text/plain": [
              "['2014', '2019']"
            ]
          },
          "metadata": {},
          "execution_count": 54
        }
      ]
    },
    {
      "cell_type": "markdown",
      "source": [
        "Each set of brackets `[]` indicates an interval of permitted characters and since four positions are specified, this regex will match four-character substrings. Instead of putting four sets of brackets, we can also use curly braces `{}` to specify the number of matches we want from the bracketed interval."
      ],
      "metadata": {
        "id": "VVG5TyBR70Jz"
      }
    },
    {
      "cell_type": "code",
      "source": [
        "findall('[0-9]{4}', content)"
      ],
      "metadata": {
        "colab": {
          "base_uri": "https://localhost:8080/"
        },
        "id": "vbZ44wzm8Juy",
        "outputId": "3134ef37-1af9-4fb9-bd22-b4b78dc17478"
      },
      "execution_count": null,
      "outputs": [
        {
          "output_type": "execute_result",
          "data": {
            "text/plain": [
              "['2014', '2019']"
            ]
          },
          "metadata": {},
          "execution_count": 55
        }
      ]
    },
    {
      "cell_type": "markdown",
      "source": [
        "If I wanted to find possible dates, I could look for words that **start** with one or two digits followed by either *st*, *nd*, *rd*, or *th*.\n",
        "\n",
        "To find a start of a word, we can ask for a whitespace character to be present using the code `\\s` to indicate this within the pattern description of the regex.\n",
        "\n",
        "Placing two numbers, separated by a comma, within the curly braces states that either one or two digits are fine.\n",
        "\n",
        "The parenthesis `()` form a *group* within which we provide four options (alternatives) by using the `|` symbol as an \"**or**\" operator."
      ],
      "metadata": {
        "id": "hvpN5cN18b99"
      }
    },
    {
      "cell_type": "code",
      "source": [
        "findall('\\s[0-9]{1,2}(st|nd|rd|th)', content)"
      ],
      "metadata": {
        "colab": {
          "base_uri": "https://localhost:8080/"
        },
        "id": "uleDknqX8uz1",
        "outputId": "86696d92-3c89-441a-f19b-229869a1ee51"
      },
      "execution_count": null,
      "outputs": [
        {
          "output_type": "execute_result",
          "data": {
            "text/plain": [
              "['rd', 'th']"
            ]
          },
          "metadata": {},
          "execution_count": 56
        }
      ]
    },
    {
      "cell_type": "markdown",
      "source": [
        "Finding names could be based on initial capital letters followed by *at least one* (achieved with `+`) lowercase letter. To get only words that start with a capitalized letter, we match one or more whitespaces at at the start of the pattern."
      ],
      "metadata": {
        "id": "T87_Y1AK-JC7"
      }
    },
    {
      "cell_type": "code",
      "source": [
        "findall('\\s+[A-Z][a-z]+', content)"
      ],
      "metadata": {
        "colab": {
          "base_uri": "https://localhost:8080/"
        },
        "id": "nNKE80XE-kHk",
        "outputId": "8039d919-5cc1-4891-ad19-d3e4e647d753"
      },
      "execution_count": null,
      "outputs": [
        {
          "output_type": "execute_result",
          "data": {
            "text/plain": [
              "[' Puff', ' May', ' The', ' Happy', ' July']"
            ]
          },
          "metadata": {},
          "execution_count": 57
        }
      ]
    },
    {
      "cell_type": "markdown",
      "source": [
        "Also starts of sentences get capitalized, we could try to only pick those whitespaces that are **not** (achieved by `^`) preceded by a punctuation.\n",
        "\n",
        "Let's first learn to match punctuation:\n",
        "\n",
        "The symbol `.` has a special meaning in regex: it matches any single character (that is not the newline character). Hence we have to escape this meaning by adding a backslash `\\` in front of it.\n",
        "\n",
        "Similarly, `?` means \"*zero times or one time*\" so it needs to be escaped as well."
      ],
      "metadata": {
        "id": "SPGCRXzxA3gx"
      }
    },
    {
      "cell_type": "code",
      "source": [
        "findall('(\\.|,|\\?|!)', content)"
      ],
      "metadata": {
        "colab": {
          "base_uri": "https://localhost:8080/"
        },
        "id": "-ysdLKL0BRZE",
        "outputId": "5b4c7c96-44ab-4c1d-a9e2-173cd866068d"
      },
      "execution_count": null,
      "outputs": [
        {
          "output_type": "execute_result",
          "data": {
            "text/plain": [
              "[',', ',', ',', ',', '.', ',', ',', '.', '.', '.', '!']"
            ]
          },
          "metadata": {},
          "execution_count": 58
        }
      ]
    },
    {
      "cell_type": "markdown",
      "source": [
        "Now, let's try finding **anything but** punctuation. That will be a lot of matches so we can look at the count instead of the listing."
      ],
      "metadata": {
        "id": "2It2c3etBbu4"
      }
    },
    {
      "cell_type": "code",
      "source": [
        "len(findall('[^(\\.|,|\\?|!)]', content))"
      ],
      "metadata": {
        "colab": {
          "base_uri": "https://localhost:8080/"
        },
        "id": "sjAh1KcbBeJx",
        "outputId": "6be20ee9-e33c-4b38-94f2-248cacac56cf"
      },
      "execution_count": null,
      "outputs": [
        {
          "output_type": "execute_result",
          "data": {
            "text/plain": [
              "210"
            ]
          },
          "metadata": {},
          "execution_count": 63
        }
      ]
    },
    {
      "cell_type": "markdown",
      "source": [
        " Finally, we are ready to match non-punctuation followed by whitespace and then a capitalized word."
      ],
      "metadata": {
        "id": "k0f_WdxLB6kd"
      }
    },
    {
      "cell_type": "code",
      "source": [
        "matches = findall('[^(\\.|,|\\?|!)]\\s+[A-Z][a-z]+', content)\n",
        "matches"
      ],
      "metadata": {
        "colab": {
          "base_uri": "https://localhost:8080/"
        },
        "id": "ueQh0BF2CN_v",
        "outputId": "dec8580f-9ecc-4edd-e24f-34ffcaae4b34"
      },
      "execution_count": null,
      "outputs": [
        {
          "output_type": "execute_result",
          "data": {
            "text/plain": [
              "['d Puff', 'n May', 'l Happy', 'n July']"
            ]
          },
          "metadata": {},
          "execution_count": 65
        }
      ]
    },
    {
      "cell_type": "code",
      "source": [
        "for m in matches:\n",
        "  print(m[2:])"
      ],
      "metadata": {
        "colab": {
          "base_uri": "https://localhost:8080/"
        },
        "id": "NskY_I9-CeVx",
        "outputId": "f5ea52d5-28ae-41e9-aaca-9e42f9fcc7a6"
      },
      "execution_count": null,
      "outputs": [
        {
          "output_type": "stream",
          "name": "stdout",
          "text": [
            "Puff\n",
            "May\n",
            "Happy\n",
            "July\n"
          ]
        }
      ]
    },
    {
      "cell_type": "markdown",
      "source": [
        "Note that these matches now include that non-punctuation character. We can easily clean it out, along with the space, by cropping the first two characters of each match if we want to."
      ],
      "metadata": {
        "id": "nIO1YEYWCT05"
      }
    },
    {
      "cell_type": "markdown",
      "source": [
        "Now, it will not be easy to separate months from names since some people are named April, for example. Natural language processing (NLP) tools can (somewhat precisely) achieve that by tagging the words in terms of their role within the sentence, but we won't get into that today."
      ],
      "metadata": {
        "id": "OZadHylzCjoA"
      }
    },
    {
      "cell_type": "markdown",
      "source": [
        "To learn more about the numerous mechanisms with which to build regular expressions, there is an excellent [Real Python Regex tutorial](https://realpython.com/regex-python/). If you want to practice formulating regexes and then testing whether certains strings match those patterns, [regex101.com](https://regex101.com/) is cool and handy (pick Python as your \"flavor\" on the left sidebar to match the syntax; many tools include regexes but the precise syntax tends to vary from one tool to another)."
      ],
      "metadata": {
        "id": "oTpPh48NC_PU"
      }
    }
  ]
}