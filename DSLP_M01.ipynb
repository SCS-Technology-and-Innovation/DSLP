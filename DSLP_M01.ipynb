{
  "nbformat": 4,
  "nbformat_minor": 0,
  "metadata": {
    "colab": {
      "provenance": [],
      "authorship_tag": "ABX9TyOZmZHnTHig6ct9dU6GZuuh",
      "include_colab_link": true
    },
    "kernelspec": {
      "name": "python3",
      "display_name": "Python 3"
    },
    "language_info": {
      "name": "python"
    }
  },
  "cells": [
    {
      "cell_type": "markdown",
      "metadata": {
        "id": "view-in-github",
        "colab_type": "text"
      },
      "source": [
        "<a href=\"https://colab.research.google.com/github/SCS-Technology-and-Innovation/DSLP/blob/main/DSLP_M01.ipynb\" target=\"_parent\"><img src=\"https://colab.research.google.com/assets/colab-badge.svg\" alt=\"Open In Colab\"/></a>"
      ]
    },
    {
      "cell_type": "markdown",
      "source": [
        "# Encoding\n",
        "\n",
        "\n",
        "On any kind of a computer, text is represented through sequences of *characters* called **strings**. All digital representation occurs through sequences of bits. Each bit can take one of two possible values: 1 (true) or 0 (false).\n",
        "\n",
        "\n"
      ],
      "metadata": {
        "id": "CMTYgseza8Q9"
      }
    },
    {
      "cell_type": "code",
      "source": [
        "letter = '0'\n",
        "print(letter)"
      ],
      "metadata": {
        "colab": {
          "base_uri": "https://localhost:8080/"
        },
        "id": "7IBlQunLg9K9",
        "outputId": "bb75ee97-5ffc-43cf-b7f2-6ccd0256d5a5"
      },
      "execution_count": 63,
      "outputs": [
        {
          "output_type": "stream",
          "name": "stdout",
          "text": [
            "0\n"
          ]
        }
      ]
    },
    {
      "cell_type": "code",
      "source": [
        "code = ord(letter)\n",
        "print(code)"
      ],
      "metadata": {
        "id": "FuTJ73y4gytg",
        "outputId": "abda2ffa-847b-4c34-8d3d-05900ab7a320",
        "colab": {
          "base_uri": "https://localhost:8080/"
        }
      },
      "execution_count": 64,
      "outputs": [
        {
          "output_type": "stream",
          "name": "stdout",
          "text": [
            "48\n"
          ]
        }
      ]
    },
    {
      "cell_type": "code",
      "source": [
        "chr(code) # reverse lookup"
      ],
      "metadata": {
        "id": "_2HifjQKhGH4",
        "outputId": "ac4e5377-cb4b-45e5-a71f-b615cef27091",
        "colab": {
          "base_uri": "https://localhost:8080/",
          "height": 35
        }
      },
      "execution_count": 65,
      "outputs": [
        {
          "output_type": "execute_result",
          "data": {
            "text/plain": [
              "'0'"
            ],
            "application/vnd.google.colaboratory.intrinsic+json": {
              "type": "string"
            }
          },
          "metadata": {},
          "execution_count": 65
        }
      ]
    },
    {
      "cell_type": "code",
      "source": [
        "print(ord('A'))\n",
        "print(ord('ü'))"
      ],
      "metadata": {
        "colab": {
          "base_uri": "https://localhost:8080/"
        },
        "id": "_1MkmCeIhJ6B",
        "outputId": "fedd823e-62bc-4f7d-c60f-f4fdeddaf7b3"
      },
      "execution_count": 12,
      "outputs": [
        {
          "output_type": "stream",
          "name": "stdout",
          "text": [
            "65\n",
            "252\n"
          ]
        }
      ]
    },
    {
      "cell_type": "code",
      "source": [
        "start = 30\n",
        "count = 10\n",
        "for code in range(start, start + count):\n",
        "  print(code, chr(code))"
      ],
      "metadata": {
        "id": "Ih7F4FSRhaH8",
        "outputId": "e4003efa-6adf-4199-bd44-0320b815bc41",
        "colab": {
          "base_uri": "https://localhost:8080/"
        }
      },
      "execution_count": 34,
      "outputs": [
        {
          "output_type": "stream",
          "name": "stdout",
          "text": [
            "30 \u001e\n",
            "31 \u001f\n",
            "32  \n",
            "33 !\n",
            "34 \"\n",
            "35 #\n",
            "36 $\n",
            "37 %\n",
            "38 &\n",
            "39 '\n"
          ]
        }
      ]
    },
    {
      "cell_type": "markdown",
      "source": [
        "Computer memory is **not** measured in bits but instead *bytes* that are groups of eight bits each. One cannot, in general, reserve a single bit of memory; one or more bytes is the usual way to proceed.\n",
        "\n",
        "The **shortest** way to make text into bits is therefore assigning *one byte per letter*. Let's look at the bits themselves.\n"
      ],
      "metadata": {
        "id": "pijvbISxg9ft"
      }
    },
    {
      "cell_type": "code",
      "source": [
        "letter = 'x' # pick a letter\n",
        "number = ord(letter) # get its number in the default encoding\n",
        "bits = bin(number) # get the bits (binary number)\n",
        "print(bits) # see the bits"
      ],
      "metadata": {
        "colab": {
          "base_uri": "https://localhost:8080/"
        },
        "id": "7lga_HlDh90n",
        "outputId": "96ed805a-6714-4d78-ecc4-3308633ae7ae"
      },
      "execution_count": 33,
      "outputs": [
        {
          "output_type": "stream",
          "name": "stdout",
          "text": [
            "0b1111000\n"
          ]
        }
      ]
    },
    {
      "cell_type": "markdown",
      "source": [
        "That's only *seven* bits instead of the **eight** we expected. It is because *leading zeroes* are not shown, unless we request that specifically by **formatting** the printout to match a specified pattern."
      ],
      "metadata": {
        "id": "EWyvq5bjiLvF"
      }
    },
    {
      "cell_type": "code",
      "source": [
        "character = '2'\n",
        "byte = ord(character)\n",
        "bits = bin(byte)\n",
        "print(bits) # no leading zeroes but with that 0b prefix in place\n",
        "print(\"{0:08b}\".format(byte)) # leading zeroes to a whole byte but no prefix"
      ],
      "metadata": {
        "colab": {
          "base_uri": "https://localhost:8080/"
        },
        "id": "yyo4csNeiUIf",
        "outputId": "e403c332-caa5-4905-fadc-a1656f5aa7fb"
      },
      "execution_count": null,
      "outputs": [
        {
          "output_type": "stream",
          "name": "stdout",
          "text": [
            "0b110010\n",
            "00110010\n"
          ]
        }
      ]
    },
    {
      "cell_type": "markdown",
      "source": [
        "Using one byte per character gives us eight options of yes/no, which means that we have a total of $2^8$ possible but sequences that fit into one byte each, allowing us to represent a total of 256 different characters.\n",
        "\n",
        "If we think in English only, this sounds like a lot."
      ],
      "metadata": {
        "id": "7mfZWn6Bh7qE"
      }
    },
    {
      "cell_type": "code",
      "source": [
        "import string # we use a library that contains useful information regarding strings\n",
        "\n",
        "letters = string.ascii_letters # we will discuss what ASCII means in a bit\n",
        "print(letters)\n",
        "\n",
        "digits = string.digits\n",
        "print(digits)\n",
        "\n",
        "punctuation = string.punctuation\n",
        "print(punctuation)\n",
        "\n",
        "print(len(letters) + len(digits) + len(punctuation))"
      ],
      "metadata": {
        "colab": {
          "base_uri": "https://localhost:8080/"
        },
        "id": "i9v-D8bEfBI6",
        "outputId": "360ab1e4-3f7e-4332-b0d7-9e033338962d"
      },
      "execution_count": null,
      "outputs": [
        {
          "output_type": "stream",
          "name": "stdout",
          "text": [
            "abcdefghijklmnopqrstuvwxyzABCDEFGHIJKLMNOPQRSTUVWXYZ\n",
            "0123456789\n",
            "!\"#$%&'()*+,-./:;<=>?@[\\]^_`{|}~\n",
            "94\n"
          ]
        }
      ]
    },
    {
      "cell_type": "markdown",
      "source": [
        "In addition to letters, digits, and punctuation, there are also other characters of interest, notably all **whitespace** characters like line breaks, spaces, and tabulators. We do not notice them unless they are before or in between other characters, though."
      ],
      "metadata": {
        "id": "hZF-wUibfxy1"
      }
    },
    {
      "cell_type": "code",
      "source": [
        "print('🐱', string.printable, '🐱')\n",
        "len(string.printable)"
      ],
      "metadata": {
        "colab": {
          "base_uri": "https://localhost:8080/"
        },
        "id": "ZHe5hfDIf7GQ",
        "outputId": "293bdd2d-87d5-4860-c3a2-aae7c12add2b"
      },
      "execution_count": null,
      "outputs": [
        {
          "output_type": "stream",
          "name": "stdout",
          "text": [
            "🐱 0123456789abcdefghijklmnopqrstuvwxyzABCDEFGHIJKLMNOPQRSTUVWXYZ!\"#$%&'()*+,-./:;<=>?@[\\]^_`{|}~ \t\n",
            "\r\u000b\f 🐱\n"
          ]
        },
        {
          "output_type": "execute_result",
          "data": {
            "text/plain": [
              "100"
            ]
          },
          "metadata": {},
          "execution_count": 22
        }
      ]
    },
    {
      "cell_type": "markdown",
      "source": [
        "That's a hundred right here and we haven't even begun with accented characters for French and Spanish, let alone languages that use a different alphabet altogether. And then there are all the [emoji](https://en.wikipedia.org/wiki/List_of_emojis) like the cat that was used above to allow us to take note of the whitespace at the end of the printable list of characters.\n",
        "\n",
        "So what do we get if we look at `ord` for the cat emoji?"
      ],
      "metadata": {
        "id": "A7pu8vnRgi9-"
      }
    },
    {
      "cell_type": "code",
      "source": [
        "ord('🐱')"
      ],
      "metadata": {
        "colab": {
          "base_uri": "https://localhost:8080/"
        },
        "id": "HxtJgQLWhVvG",
        "outputId": "0e77b487-e81d-404a-9106-ac8f6a066b02"
      },
      "execution_count": null,
      "outputs": [
        {
          "output_type": "execute_result",
          "data": {
            "text/plain": [
              "128049"
            ]
          },
          "metadata": {},
          "execution_count": 28
        }
      ]
    },
    {
      "cell_type": "code",
      "source": [
        "chr(100000)"
      ],
      "metadata": {
        "id": "Yml0451ul3ln",
        "outputId": "63248c2f-e366-455b-ca43-b1832de7527e",
        "colab": {
          "base_uri": "https://localhost:8080/",
          "height": 35
        }
      },
      "execution_count": 40,
      "outputs": [
        {
          "output_type": "execute_result",
          "data": {
            "text/plain": [
              "'𘚠'"
            ],
            "application/vnd.google.colaboratory.intrinsic+json": {
              "type": "string"
            }
          },
          "metadata": {},
          "execution_count": 40
        }
      ]
    },
    {
      "cell_type": "markdown",
      "source": [
        "Let's figure out what is the largest number in the default encoding that we are working with that still corresponds to the symbol by just attempting to print them and fishing for where the error pops up."
      ],
      "metadata": {
        "id": "H2yuLy_Nmte8"
      }
    },
    {
      "cell_type": "code",
      "source": [
        "start = 1000000\n",
        "end = 2000000\n",
        "incr = 100000\n",
        "for code in range(start, end, incr):\n",
        "  print(code, chr(code))"
      ],
      "metadata": {
        "id": "WAvVKPcBmBmP",
        "outputId": "cf2e31ca-6998-41c0-c3f6-3c92bae8ee5b",
        "colab": {
          "base_uri": "https://localhost:8080/",
          "height": 211
        }
      },
      "execution_count": 52,
      "outputs": [
        {
          "output_type": "stream",
          "name": "stdout",
          "text": [
            "1000000 󴉀\n",
            "1100000 􌣠\n"
          ]
        },
        {
          "output_type": "error",
          "ename": "ValueError",
          "evalue": "chr() arg not in range(0x110000)",
          "traceback": [
            "\u001b[0;31m---------------------------------------------------------------------------\u001b[0m",
            "\u001b[0;31mValueError\u001b[0m                                Traceback (most recent call last)",
            "\u001b[0;32m<ipython-input-52-1768446805c1>\u001b[0m in \u001b[0;36m<cell line: 4>\u001b[0;34m()\u001b[0m\n\u001b[1;32m      3\u001b[0m \u001b[0mincr\u001b[0m \u001b[0;34m=\u001b[0m \u001b[0;36m100000\u001b[0m\u001b[0;34m\u001b[0m\u001b[0;34m\u001b[0m\u001b[0m\n\u001b[1;32m      4\u001b[0m \u001b[0;32mfor\u001b[0m \u001b[0mcode\u001b[0m \u001b[0;32min\u001b[0m \u001b[0mrange\u001b[0m\u001b[0;34m(\u001b[0m\u001b[0mstart\u001b[0m\u001b[0;34m,\u001b[0m \u001b[0mend\u001b[0m\u001b[0;34m,\u001b[0m \u001b[0mincr\u001b[0m\u001b[0;34m)\u001b[0m\u001b[0;34m:\u001b[0m\u001b[0;34m\u001b[0m\u001b[0;34m\u001b[0m\u001b[0m\n\u001b[0;32m----> 5\u001b[0;31m   \u001b[0mprint\u001b[0m\u001b[0;34m(\u001b[0m\u001b[0mcode\u001b[0m\u001b[0;34m,\u001b[0m \u001b[0mchr\u001b[0m\u001b[0;34m(\u001b[0m\u001b[0mcode\u001b[0m\u001b[0;34m)\u001b[0m\u001b[0;34m)\u001b[0m\u001b[0;34m\u001b[0m\u001b[0;34m\u001b[0m\u001b[0m\n\u001b[0m",
            "\u001b[0;31mValueError\u001b[0m: chr() arg not in range(0x110000)"
          ]
        }
      ]
    },
    {
      "cell_type": "markdown",
      "source": [
        "This is way bigger than the \"one byte per character\" minimal assumption we begun with. Who and how decides the number of bytes per character (whether that is the same amount for all symbols or varies between symbols) and how the bit sequences within those bytes are mapped onto readable symbols?\n",
        "\n",
        "There are multiple **standards** that map sequences of bits onto human-readable characters.\n",
        "\n",
        "*   [ASCII](https://en.wikipedia.org/wiki/ASCII)\n",
        "*   [Unicode](https://en.wikipedia.org/wiki/Unicode) (UTF formats)\n",
        "*   [ISO 8859-1](https://en.wikipedia.org/wiki/ISO/IEC_8859-1) (also known as Latin-1 which is extended ASCII)"
      ],
      "metadata": {
        "id": "uUN9YMCtdsRu"
      }
    },
    {
      "cell_type": "code",
      "execution_count": null,
      "metadata": {
        "colab": {
          "base_uri": "https://localhost:8080/"
        },
        "id": "FHnQWXDEYZ11",
        "outputId": "ac18bf80-58ab-4b32-aa20-eba1db16baf8"
      },
      "outputs": [
        {
          "output_type": "stream",
          "name": "stdout",
          "text": [
            "ça pourrait être difficile de savoir 🤷\n"
          ]
        }
      ],
      "source": [
        "text = 'ça pourrait être difficile de savoir 🤷' # the Python default is Unicode\n",
        "print(text)"
      ]
    },
    {
      "cell_type": "markdown",
      "source": [
        "Not all encodings contain representations for all characters."
      ],
      "metadata": {
        "id": "zeSVmgTOdIun"
      }
    },
    {
      "cell_type": "code",
      "source": [
        "plain = text.encode(encoding = 'ascii', errors = 'namereplace')\n",
        "print(plain)"
      ],
      "metadata": {
        "colab": {
          "base_uri": "https://localhost:8080/"
        },
        "id": "oPQ3PcAjctgB",
        "outputId": "31e6697b-9df0-465c-97c2-a363a493fab2"
      },
      "execution_count": null,
      "outputs": [
        {
          "output_type": "stream",
          "name": "stdout",
          "text": [
            "b'\\\\N{LATIN SMALL LETTER C WITH CEDILLA}a pourrait \\\\N{LATIN SMALL LETTER E WITH CIRCUMFLEX}tre difficile de savoir \\\\N{SHRUG}'\n"
          ]
        }
      ]
    },
    {
      "cell_type": "code",
      "source": [
        "plain = text.encode(encoding = 'ascii', errors = 'ignore')\n",
        "print(plain)"
      ],
      "metadata": {
        "colab": {
          "base_uri": "https://localhost:8080/"
        },
        "id": "yfqzX1Qnc8ka",
        "outputId": "5916b21c-d38b-4027-9524-03fba407eb02"
      },
      "execution_count": null,
      "outputs": [
        {
          "output_type": "stream",
          "name": "stdout",
          "text": [
            "b'a pourrait tre difficile de savoir '\n"
          ]
        }
      ]
    },
    {
      "cell_type": "code",
      "source": [
        "plain = text.encode(encoding = 'ascii', errors = 'replace')\n",
        "print(plain)"
      ],
      "metadata": {
        "colab": {
          "base_uri": "https://localhost:8080/"
        },
        "id": "dL-yt8NLdAs1",
        "outputId": "911b0c0e-7302-495c-dc28-3795c58c278c"
      },
      "execution_count": null,
      "outputs": [
        {
          "output_type": "stream",
          "name": "stdout",
          "text": [
            "b'?a pourrait ?tre difficile de savoir ?'\n"
          ]
        }
      ]
    },
    {
      "cell_type": "markdown",
      "source": [
        "Not all modern-day files, software, operating systems, and computers default to Unicode. Sometimes you will encounter a file that is in ISO 8859-1 (Latin-1) instead.\n",
        "\n",
        "To include the bytes corresponding to a Latin-1 into a byte sequence in python, one must first use a `\\x` to indicate that a Latin-1 code follows and then place the two *hexadecimal* digits of the desired symbol (leading zeroes included). The codes can be looked up in a [table](https://cs.stanford.edu/people/miles/iso8859.html)."
      ],
      "metadata": {
        "id": "EkLNHd4ylJHD"
      }
    },
    {
      "cell_type": "code",
      "source": [
        "different = b'\\xC4k\\xE4inen' # a non-unicode string, as a sequence of bytes\n",
        "print(different)"
      ],
      "metadata": {
        "colab": {
          "base_uri": "https://localhost:8080/"
        },
        "id": "g7YH77s8lYkg",
        "outputId": "3cf1ccd0-7bc1-4621-c8e5-6fa3addd478c"
      },
      "execution_count": 53,
      "outputs": [
        {
          "output_type": "stream",
          "name": "stdout",
          "text": [
            "b'\\xc4k\\xe4inen'\n"
          ]
        }
      ]
    },
    {
      "cell_type": "markdown",
      "source": [
        "That's *grumpy* in Finnish. The [table](https://cs.stanford.edu/people/miles/iso8859.html) shows the symbols `C4` (Ä) and `E4` (ä) stand for."
      ],
      "metadata": {
        "id": "Nu3tUgg3luhT"
      }
    },
    {
      "cell_type": "code",
      "source": [
        "print(type(different))\n",
        "usual = different.decode('iso-8859-1')\n",
        "print(type(usual))\n",
        "print(usual)"
      ],
      "metadata": {
        "colab": {
          "base_uri": "https://localhost:8080/"
        },
        "id": "e_UOKUHGlxaM",
        "outputId": "cfc5d874-a0cf-4146-f79c-471aad2e8987"
      },
      "execution_count": 55,
      "outputs": [
        {
          "output_type": "stream",
          "name": "stdout",
          "text": [
            "<class 'bytes'>\n",
            "<class 'str'>\n",
            "Äkäinen\n"
          ]
        }
      ]
    },
    {
      "cell_type": "markdown",
      "source": [
        "How to figure out what encoding is default?"
      ],
      "metadata": {
        "id": "G5Ms4az4m0tU"
      }
    },
    {
      "cell_type": "code",
      "source": [
        "import locale\n",
        "locale.getpreferredencoding()"
      ],
      "metadata": {
        "colab": {
          "base_uri": "https://localhost:8080/",
          "height": 35
        },
        "id": "VyWLtT3om3UT",
        "outputId": "1ea0dedd-a01f-42b1-e0f0-161856dab192"
      },
      "execution_count": null,
      "outputs": [
        {
          "output_type": "execute_result",
          "data": {
            "text/plain": [
              "'UTF-8'"
            ],
            "application/vnd.google.colaboratory.intrinsic+json": {
              "type": "string"
            }
          },
          "metadata": {},
          "execution_count": 49
        }
      ]
    },
    {
      "cell_type": "markdown",
      "source": [
        "UTF-8 is one of the encodings in the Unicode family.\n",
        "\n",
        "When presented with a file of dubious origin with an unknown encoding, one can either guess or employ tools build to deduce the intended encoding. Let's load some mystery files to try this out."
      ],
      "metadata": {
        "id": "FIHh83ycnnu7"
      }
    },
    {
      "cell_type": "code",
      "source": [
        "import urllib.request # to access files at known URLs\n",
        "\n",
        "# a list of URLs\n",
        "urls = [ 'https://raw.githubusercontent.com/SCS-Technology-and-Innovation/DSLP/main/data/mysteryone.txt',\n",
        "         'https://raw.githubusercontent.com/SCS-Technology-and-Innovation/DSLP/main/data/mysterytwo.txt',\n",
        "         'https://raw.githubusercontent.com/SCS-Technology-and-Innovation/DSLP/main/data/mysterythree.txt' ]\n",
        "\n",
        "# a list of the file contents\n",
        "inputfiles = [ urllib.request.urlopen(url).read() for url in urls ] # read the contents\n",
        "\n",
        "# let's see them\n",
        "for i in inputfiles:\n",
        "  print(i)"
      ],
      "metadata": {
        "colab": {
          "base_uri": "https://localhost:8080/"
        },
        "id": "SRdTpMahoJM2",
        "outputId": "74053644-f322-4da5-a486-77e520a4a968"
      },
      "execution_count": 56,
      "outputs": [
        {
          "output_type": "stream",
          "name": "stdout",
          "text": [
            "b\"C'est un fichier en fran\\xc3\\xa7ais.\\n\"\n",
            "b'This is a file in English.\\n'\n",
            "b'T\\xe4m\\xe4 tiedosto on Suomeksi.\\n'\n"
          ]
        }
      ]
    },
    {
      "cell_type": "markdown",
      "source": [
        "We could of course just look at the bits themselves."
      ],
      "metadata": {
        "id": "9Ubc5LVnzneN"
      }
    },
    {
      "cell_type": "code",
      "source": [
        "for i in inputfiles:\n",
        "  print(''.join(f'{z:08b}' for z in i))"
      ],
      "metadata": {
        "id": "SKVQnGEjzrEQ",
        "outputId": "d0d8accf-c8f3-4c11-fd04-fb4a7eaf5262",
        "colab": {
          "base_uri": "https://localhost:8080/"
        }
      },
      "execution_count": 68,
      "outputs": [
        {
          "output_type": "stream",
          "name": "stdout",
          "text": [
            "01000011001001110110010101110011011101000010000001110101011011100010000001100110011010010110001101101000011010010110010101110010001000000110010101101110001000000110011001110010011000010110111011000011101001110110000101101001011100110010111000001010\n",
            "010101000110100001101001011100110010000001101001011100110010000001100001001000000110011001101001011011000110010100100000011010010110111000100000010001010110111001100111011011000110100101110011011010000010111000001010\n",
            "010101001110010001101101111001000010000001110100011010010110010101100100011011110111001101110100011011110010000001101111011011100010000001010011011101010110111101101101011001010110101101110011011010010010111000001010\n"
          ]
        }
      ]
    },
    {
      "cell_type": "markdown",
      "source": [
        "We can add spaces to see the individual bytes."
      ],
      "metadata": {
        "id": "E5-stE1CzshQ"
      }
    },
    {
      "cell_type": "code",
      "source": [
        "for i in inputfiles:\n",
        "  print(' '.join(f'{z:08b}' for z in i))"
      ],
      "metadata": {
        "id": "zzth-IfHzicf",
        "outputId": "3c7f04d7-a032-46f1-93a0-37c4f60c3a7c",
        "colab": {
          "base_uri": "https://localhost:8080/"
        }
      },
      "execution_count": 69,
      "outputs": [
        {
          "output_type": "stream",
          "name": "stdout",
          "text": [
            "01000011 00100111 01100101 01110011 01110100 00100000 01110101 01101110 00100000 01100110 01101001 01100011 01101000 01101001 01100101 01110010 00100000 01100101 01101110 00100000 01100110 01110010 01100001 01101110 11000011 10100111 01100001 01101001 01110011 00101110 00001010\n",
            "01010100 01101000 01101001 01110011 00100000 01101001 01110011 00100000 01100001 00100000 01100110 01101001 01101100 01100101 00100000 01101001 01101110 00100000 01000101 01101110 01100111 01101100 01101001 01110011 01101000 00101110 00001010\n",
            "01010100 11100100 01101101 11100100 00100000 01110100 01101001 01100101 01100100 01101111 01110011 01110100 01101111 00100000 01101111 01101110 00100000 01010011 01110101 01101111 01101101 01100101 01101011 01110011 01101001 00101110 00001010\n"
          ]
        }
      ]
    },
    {
      "cell_type": "markdown",
      "source": [
        "We have the contents, but as byte sequences. Work remains to be done.\n",
        "\n",
        "In order to use a tool to detect encodings, we need to request our colab virtual machine to install that tool since it is not part of the standard configuration."
      ],
      "metadata": {
        "id": "yEYeknLpqi33"
      }
    },
    {
      "cell_type": "code",
      "source": [
        "!apt install python3-magic # this tool is not included by default, we have to fetch it"
      ],
      "metadata": {
        "colab": {
          "base_uri": "https://localhost:8080/"
        },
        "id": "lFLvr0tdp8TW",
        "outputId": "297227d9-b955-4e25-e270-4f3122629731"
      },
      "execution_count": 57,
      "outputs": [
        {
          "output_type": "stream",
          "name": "stdout",
          "text": [
            "Reading package lists... Done\n",
            "Building dependency tree... Done\n",
            "Reading state information... Done\n",
            "The following NEW packages will be installed:\n",
            "  python3-magic\n",
            "0 upgraded, 1 newly installed, 0 to remove and 45 not upgraded.\n",
            "Need to get 12.6 kB of archives.\n",
            "After this operation, 52.2 kB of additional disk space will be used.\n",
            "Get:1 http://archive.ubuntu.com/ubuntu jammy/main amd64 python3-magic all 2:0.4.24-2 [12.6 kB]\n",
            "Fetched 12.6 kB in 0s (122 kB/s)\n",
            "Selecting previously unselected package python3-magic.\n",
            "(Reading database ... 121920 files and directories currently installed.)\n",
            "Preparing to unpack .../python3-magic_2%3a0.4.24-2_all.deb ...\n",
            "Unpacking python3-magic (2:0.4.24-2) ...\n",
            "Setting up python3-magic (2:0.4.24-2) ...\n"
          ]
        }
      ]
    },
    {
      "cell_type": "code",
      "source": [
        "import magic # one tool to determine encodings\n",
        "\n",
        "m = magic.open(magic.MAGIC_MIME_ENCODING)\n",
        "m.load()\n",
        "for i in inputfiles:\n",
        "  enc = m.buffer(i)\n",
        "  print(enc)"
      ],
      "metadata": {
        "colab": {
          "base_uri": "https://localhost:8080/"
        },
        "id": "_gig923vnwYB",
        "outputId": "8bc2e5ee-ba7a-4c42-df38-560d145d7161"
      },
      "execution_count": 58,
      "outputs": [
        {
          "output_type": "stream",
          "name": "stdout",
          "text": [
            "utf-8\n",
            "us-ascii\n",
            "iso-8859-1\n"
          ]
        }
      ]
    },
    {
      "cell_type": "markdown",
      "source": [
        "With this knowledge, we can now convert the contents to the encoding of this environment which is Unicode."
      ],
      "metadata": {
        "id": "ZbAdI1xXqcRU"
      }
    },
    {
      "cell_type": "code",
      "source": [
        "for i in inputfiles:\n",
        "  enc = m.buffer(i)\n",
        "  print(i.decode(enc))"
      ],
      "metadata": {
        "colab": {
          "base_uri": "https://localhost:8080/"
        },
        "id": "zWMzrmc-qV8t",
        "outputId": "00b6c6b7-4c33-46e5-a4db-da0eafb6fc35"
      },
      "execution_count": 59,
      "outputs": [
        {
          "output_type": "stream",
          "name": "stdout",
          "text": [
            "C'est un fichier en français.\n",
            "\n",
            "This is a file in English.\n",
            "\n",
            "Tämä tiedosto on Suomeksi.\n",
            "\n"
          ]
        }
      ]
    },
    {
      "cell_type": "markdown",
      "source": [
        "For more details on this topic, Brad Solomon has an excellent [tutorial](https://realpython.com/python-encodings-guide/#encoding-and-decoding-in-python-3) available online for free."
      ],
      "metadata": {
        "id": "hrnr77LtnRNZ"
      }
    }
  ]
}