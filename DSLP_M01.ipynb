{
  "nbformat": 4,
  "nbformat_minor": 0,
  "metadata": {
    "colab": {
      "provenance": [],
      "authorship_tag": "ABX9TyMK5DF4FSAphQIgZ6K6/qbQ",
      "include_colab_link": true
    },
    "kernelspec": {
      "name": "python3",
      "display_name": "Python 3"
    },
    "language_info": {
      "name": "python"
    }
  },
  "cells": [
    {
      "cell_type": "markdown",
      "metadata": {
        "id": "view-in-github",
        "colab_type": "text"
      },
      "source": [
        "<a href=\"https://colab.research.google.com/github/SCS-Technology-and-Innovation/DSLP/blob/main/DSLP_M01.ipynb\" target=\"_parent\"><img src=\"https://colab.research.google.com/assets/colab-badge.svg\" alt=\"Open In Colab\"/></a>"
      ]
    },
    {
      "cell_type": "markdown",
      "source": [
        "# Encoding\n",
        "\n",
        "\n",
        "On any kind of a computer, text is represented through sequences of *characters* called **strings**. All digital representation occurs through sequences of bits. Each bit can take one of two possible values: 1 (true) or 0 (false).\n",
        "\n",
        "Computer memory is **not** measured in bits but instead *bytes* that are groups of eight bits each. One cannot, in general, reserve a single bit of memory; one or more bytes is the usual way to proceed.\n",
        "\n",
        "\n",
        "\n"
      ],
      "metadata": {
        "id": "CMTYgseza8Q9"
      }
    },
    {
      "cell_type": "code",
      "source": [
        "letter = 'a'\n",
        "print(letter, ord(letter))"
      ],
      "metadata": {
        "colab": {
          "base_uri": "https://localhost:8080/"
        },
        "id": "7IBlQunLg9K9",
        "outputId": "b134a4b1-ddea-4a9c-db64-a1640663dbc9"
      },
      "execution_count": 23,
      "outputs": [
        {
          "output_type": "stream",
          "name": "stdout",
          "text": [
            "a 97\n"
          ]
        }
      ]
    },
    {
      "cell_type": "code",
      "source": [
        "print(ord('A'))\n",
        "print(ord('ü'))"
      ],
      "metadata": {
        "colab": {
          "base_uri": "https://localhost:8080/"
        },
        "id": "_1MkmCeIhJ6B",
        "outputId": "97dfee3a-b945-4b01-f47c-db7a3c298925"
      },
      "execution_count": 26,
      "outputs": [
        {
          "output_type": "stream",
          "name": "stdout",
          "text": [
            "65\n",
            "252\n"
          ]
        }
      ]
    },
    {
      "cell_type": "markdown",
      "source": [
        "The **shortest** way to make text into bits is therefore assigning *one byte per letter*. Let's look at the bits themselves.\n"
      ],
      "metadata": {
        "id": "pijvbISxg9ft"
      }
    },
    {
      "cell_type": "code",
      "source": [
        "bits = ord('x')\n",
        "print(bin(bits))"
      ],
      "metadata": {
        "colab": {
          "base_uri": "https://localhost:8080/"
        },
        "id": "7lga_HlDh90n",
        "outputId": "f58f7957-01e2-4a76-cb61-cec4095ca883"
      },
      "execution_count": 29,
      "outputs": [
        {
          "output_type": "stream",
          "name": "stdout",
          "text": [
            "0b1111000\n"
          ]
        }
      ]
    },
    {
      "cell_type": "markdown",
      "source": [
        "That's only *seven* bits instead of the **eight** we expected. It is because *leading zeroes* are not shown, unless we request that specifically by **formatting** the printout to match a specified pattern."
      ],
      "metadata": {
        "id": "EWyvq5bjiLvF"
      }
    },
    {
      "cell_type": "code",
      "source": [
        "character = '2'\n",
        "byte = ord(character)\n",
        "bits = bin(byte)\n",
        "print(bits) # no leading zeroes but with that 0b prefix in place\n",
        "print(\"{0:08b}\".format(byte)) # leading zeroes to a whole byte but no prefix"
      ],
      "metadata": {
        "colab": {
          "base_uri": "https://localhost:8080/"
        },
        "id": "yyo4csNeiUIf",
        "outputId": "e403c332-caa5-4905-fadc-a1656f5aa7fb"
      },
      "execution_count": 37,
      "outputs": [
        {
          "output_type": "stream",
          "name": "stdout",
          "text": [
            "0b110010\n",
            "00110010\n"
          ]
        }
      ]
    },
    {
      "cell_type": "markdown",
      "source": [
        "Using one byte per letter gives us eight options of yes/no, which means that we have a total of $2^8$ possible but sequences that fit into one byte each, allowing us to represent a total of 256 different characters.\n",
        "\n",
        "If we think in English only, this sounds like a lot."
      ],
      "metadata": {
        "id": "7mfZWn6Bh7qE"
      }
    },
    {
      "cell_type": "code",
      "source": [
        "import string # we use a library that contains useful information regarding strings\n",
        "\n",
        "letters = string.ascii_letters # we will discuss what ASCII means in a bit\n",
        "print(letters)\n",
        "\n",
        "digits = string.digits\n",
        "print(digits)\n",
        "\n",
        "punctuation = string.punctuation\n",
        "print(punctuation)\n",
        "\n",
        "print(len(letters) + len(digits) + len(punctuation))"
      ],
      "metadata": {
        "colab": {
          "base_uri": "https://localhost:8080/"
        },
        "id": "i9v-D8bEfBI6",
        "outputId": "360ab1e4-3f7e-4332-b0d7-9e033338962d"
      },
      "execution_count": 17,
      "outputs": [
        {
          "output_type": "stream",
          "name": "stdout",
          "text": [
            "abcdefghijklmnopqrstuvwxyzABCDEFGHIJKLMNOPQRSTUVWXYZ\n",
            "0123456789\n",
            "!\"#$%&'()*+,-./:;<=>?@[\\]^_`{|}~\n",
            "94\n"
          ]
        }
      ]
    },
    {
      "cell_type": "markdown",
      "source": [
        "In addition to letters, digits, and punctuation, there are also other characters of interest, notably all **whitespace** characters like line breaks, spaces, and tabulators. We do not notice them unless they are before or in between other characters, though."
      ],
      "metadata": {
        "id": "hZF-wUibfxy1"
      }
    },
    {
      "cell_type": "code",
      "source": [
        "print('🐱', string.printable, '🐱')\n",
        "len(string.printable)"
      ],
      "metadata": {
        "colab": {
          "base_uri": "https://localhost:8080/"
        },
        "id": "ZHe5hfDIf7GQ",
        "outputId": "293bdd2d-87d5-4860-c3a2-aae7c12add2b"
      },
      "execution_count": 22,
      "outputs": [
        {
          "output_type": "stream",
          "name": "stdout",
          "text": [
            "🐱 0123456789abcdefghijklmnopqrstuvwxyzABCDEFGHIJKLMNOPQRSTUVWXYZ!\"#$%&'()*+,-./:;<=>?@[\\]^_`{|}~ \t\n",
            "\r\u000b\f 🐱\n"
          ]
        },
        {
          "output_type": "execute_result",
          "data": {
            "text/plain": [
              "100"
            ]
          },
          "metadata": {},
          "execution_count": 22
        }
      ]
    },
    {
      "cell_type": "markdown",
      "source": [
        "That's a hundred right here and we haven't even begun with accented characters for French and Spanish, let alone languages that use a different alphabet altogether. And then there are all the [emoji](https://en.wikipedia.org/wiki/List_of_emojis) like the cat that was used above to allow us to take note of the whitespace at the end of the printable list of characters.\n",
        "\n",
        "So what do we get if we look at `ord` for the cat emoji?"
      ],
      "metadata": {
        "id": "A7pu8vnRgi9-"
      }
    },
    {
      "cell_type": "code",
      "source": [
        "ord('🐱')"
      ],
      "metadata": {
        "colab": {
          "base_uri": "https://localhost:8080/"
        },
        "id": "HxtJgQLWhVvG",
        "outputId": "0e77b487-e81d-404a-9106-ac8f6a066b02"
      },
      "execution_count": 28,
      "outputs": [
        {
          "output_type": "execute_result",
          "data": {
            "text/plain": [
              "128049"
            ]
          },
          "metadata": {},
          "execution_count": 28
        }
      ]
    },
    {
      "cell_type": "markdown",
      "source": [
        "This is way bigger than the \"one byte per character\" minimal assumption we begun with. Who and how decides the number of bytes per character (whether that is the same amount for all symbols or varies between symbols) and how the bit sequences within those bytes are mapped onto readable symbols?\n",
        "\n",
        "There are multiple **standards** that map sequences of bits onto human-readable characters.\n",
        "\n",
        "*   [ASCII](https://en.wikipedia.org/wiki/ASCII)\n",
        "*   [Unicode](https://en.wikipedia.org/wiki/Unicode) (UTF formats)\n",
        "*   [ISO 8859-1](https://en.wikipedia.org/wiki/ISO/IEC_8859-1) (also known as Latin1)"
      ],
      "metadata": {
        "id": "uUN9YMCtdsRu"
      }
    },
    {
      "cell_type": "code",
      "execution_count": 6,
      "metadata": {
        "colab": {
          "base_uri": "https://localhost:8080/"
        },
        "id": "FHnQWXDEYZ11",
        "outputId": "ac18bf80-58ab-4b32-aa20-eba1db16baf8"
      },
      "outputs": [
        {
          "output_type": "stream",
          "name": "stdout",
          "text": [
            "ça pourrait être difficile de savoir 🤷\n"
          ]
        }
      ],
      "source": [
        "text = 'ça pourrait être difficile de savoir 🤷' # the Python default is Unicode\n",
        "print(text)"
      ]
    },
    {
      "cell_type": "markdown",
      "source": [
        "Not all encodings contain representations for all characters."
      ],
      "metadata": {
        "id": "zeSVmgTOdIun"
      }
    },
    {
      "cell_type": "code",
      "source": [
        "plain = text.encode(encoding = 'ascii', errors = 'namereplace')\n",
        "print(plain)"
      ],
      "metadata": {
        "colab": {
          "base_uri": "https://localhost:8080/"
        },
        "id": "oPQ3PcAjctgB",
        "outputId": "31e6697b-9df0-465c-97c2-a363a493fab2"
      },
      "execution_count": 7,
      "outputs": [
        {
          "output_type": "stream",
          "name": "stdout",
          "text": [
            "b'\\\\N{LATIN SMALL LETTER C WITH CEDILLA}a pourrait \\\\N{LATIN SMALL LETTER E WITH CIRCUMFLEX}tre difficile de savoir \\\\N{SHRUG}'\n"
          ]
        }
      ]
    },
    {
      "cell_type": "code",
      "source": [
        "plain = text.encode(encoding = 'ascii', errors = 'ignore')\n",
        "print(plain)"
      ],
      "metadata": {
        "colab": {
          "base_uri": "https://localhost:8080/"
        },
        "id": "yfqzX1Qnc8ka",
        "outputId": "5916b21c-d38b-4027-9524-03fba407eb02"
      },
      "execution_count": 8,
      "outputs": [
        {
          "output_type": "stream",
          "name": "stdout",
          "text": [
            "b'a pourrait tre difficile de savoir '\n"
          ]
        }
      ]
    },
    {
      "cell_type": "code",
      "source": [
        "plain = text.encode(encoding = 'ascii', errors = 'replace')\n",
        "print(plain)"
      ],
      "metadata": {
        "colab": {
          "base_uri": "https://localhost:8080/"
        },
        "id": "dL-yt8NLdAs1",
        "outputId": "911b0c0e-7302-495c-dc28-3795c58c278c"
      },
      "execution_count": 9,
      "outputs": [
        {
          "output_type": "stream",
          "name": "stdout",
          "text": [
            "b'?a pourrait ?tre difficile de savoir ?'\n"
          ]
        }
      ]
    },
    {
      "cell_type": "markdown",
      "source": [
        "Not all modern-day files, software, operating systems, and computers default to Unicode. Sometimes you will encounter a file that is in ISO 8859-1 instead."
      ],
      "metadata": {
        "id": "EkLNHd4ylJHD"
      }
    },
    {
      "cell_type": "code",
      "source": [
        "different = b'\\xC4k\\xE3inen' # a non-unicode string, as a sequence of bytes\n",
        "print(different)"
      ],
      "metadata": {
        "colab": {
          "base_uri": "https://localhost:8080/"
        },
        "id": "g7YH77s8lYkg",
        "outputId": "d7546b0e-f7fc-49d7-c5e8-16377869ee56"
      },
      "execution_count": 48,
      "outputs": [
        {
          "output_type": "stream",
          "name": "stdout",
          "text": [
            "b'\\xc4k\\xe3inen'\n"
          ]
        }
      ]
    },
    {
      "cell_type": "markdown",
      "source": [
        "That's *grumpy* in Finnish. There is a [table](https://cs.stanford.edu/people/miles/iso8859.html) for knowing what symbols `C4` and `E3` stand for."
      ],
      "metadata": {
        "id": "Nu3tUgg3luhT"
      }
    },
    {
      "cell_type": "code",
      "source": [
        "print(type(different))\n",
        "usual = different.decode('iso-8859-1')\n",
        "print(type(usual))\n",
        "print(usual)"
      ],
      "metadata": {
        "colab": {
          "base_uri": "https://localhost:8080/"
        },
        "id": "e_UOKUHGlxaM",
        "outputId": "a38a976d-7f27-49b5-cf62-920980b08813"
      },
      "execution_count": 47,
      "outputs": [
        {
          "output_type": "stream",
          "name": "stdout",
          "text": [
            "<class 'bytes'>\n",
            "<class 'str'>\n",
            "Äkãinen\n"
          ]
        }
      ]
    },
    {
      "cell_type": "markdown",
      "source": [
        "How to figure out what encoding is default?"
      ],
      "metadata": {
        "id": "G5Ms4az4m0tU"
      }
    },
    {
      "cell_type": "code",
      "source": [
        "import locale\n",
        "locale.getpreferredencoding()"
      ],
      "metadata": {
        "colab": {
          "base_uri": "https://localhost:8080/",
          "height": 35
        },
        "id": "VyWLtT3om3UT",
        "outputId": "1ea0dedd-a01f-42b1-e0f0-161856dab192"
      },
      "execution_count": 49,
      "outputs": [
        {
          "output_type": "execute_result",
          "data": {
            "text/plain": [
              "'UTF-8'"
            ],
            "application/vnd.google.colaboratory.intrinsic+json": {
              "type": "string"
            }
          },
          "metadata": {},
          "execution_count": 49
        }
      ]
    },
    {
      "cell_type": "markdown",
      "source": [
        "When presented with a file of dubious origin with an unknown encoding, one can either guess or employ tools build to deduce the intended encoding. Let's load some mystery files to try this out."
      ],
      "metadata": {
        "id": "FIHh83ycnnu7"
      }
    },
    {
      "cell_type": "code",
      "source": [
        "import urllib.request # to access files at known URLs\n",
        "\n",
        "urls = [ 'https://raw.githubusercontent.com/SCS-Technology-and-Innovation/DSLP/main/data/mysteryone.txt',\n",
        "         'https://raw.githubusercontent.com/SCS-Technology-and-Innovation/DSLP/main/data/mysterytwo.txt',\n",
        "         'https://raw.githubusercontent.com/SCS-Technology-and-Innovation/DSLP/main/data/mysterythree.txt' ]\n",
        "\n",
        "inputfiles = [ urllib.request.urlopen(url).read() for url in urls ] # read the contents\n",
        "for i in inputfiles:\n",
        "  print(i)"
      ],
      "metadata": {
        "colab": {
          "base_uri": "https://localhost:8080/"
        },
        "id": "SRdTpMahoJM2",
        "outputId": "ceed0fe8-c075-49a7-cfdb-e5e96ddcd797"
      },
      "execution_count": 53,
      "outputs": [
        {
          "output_type": "stream",
          "name": "stdout",
          "text": [
            "b\"C'est un fichier en fran\\xc3\\xa7ais.\\n\"\n",
            "b'This is a file in English.\\n'\n",
            "b'T\\xe4m\\xe4 tiedosto on Suomeksi.\\n'\n"
          ]
        }
      ]
    },
    {
      "cell_type": "markdown",
      "source": [
        "We have the contents, but as byte sequences. Work remains to be done."
      ],
      "metadata": {
        "id": "yEYeknLpqi33"
      }
    },
    {
      "cell_type": "code",
      "source": [
        "!apt install python3-magic # this tool is not included by default, we have to fetch it"
      ],
      "metadata": {
        "colab": {
          "base_uri": "https://localhost:8080/"
        },
        "id": "lFLvr0tdp8TW",
        "outputId": "dd98826b-f86e-4916-82c3-a5c779d37d40"
      },
      "execution_count": 56,
      "outputs": [
        {
          "output_type": "stream",
          "name": "stdout",
          "text": [
            "Reading package lists... Done\n",
            "Building dependency tree... Done\n",
            "Reading state information... Done\n",
            "The following NEW packages will be installed:\n",
            "  python3-magic\n",
            "0 upgraded, 1 newly installed, 0 to remove and 45 not upgraded.\n",
            "Need to get 12.6 kB of archives.\n",
            "After this operation, 52.2 kB of additional disk space will be used.\n",
            "Get:1 http://archive.ubuntu.com/ubuntu jammy/main amd64 python3-magic all 2:0.4.24-2 [12.6 kB]\n",
            "Fetched 12.6 kB in 0s (59.0 kB/s)\n",
            "Selecting previously unselected package python3-magic.\n",
            "(Reading database ... 121752 files and directories currently installed.)\n",
            "Preparing to unpack .../python3-magic_2%3a0.4.24-2_all.deb ...\n",
            "Unpacking python3-magic (2:0.4.24-2) ...\n",
            "Setting up python3-magic (2:0.4.24-2) ...\n"
          ]
        }
      ]
    },
    {
      "cell_type": "code",
      "source": [
        "import magic # one tool to determine encodings\n",
        "\n",
        "m = magic.open(magic.MAGIC_MIME_ENCODING)\n",
        "m.load()\n",
        "for i in inputfiles:\n",
        "  enc = m.buffer(i)\n",
        "  print(enc)"
      ],
      "metadata": {
        "colab": {
          "base_uri": "https://localhost:8080/"
        },
        "id": "_gig923vnwYB",
        "outputId": "382b3d36-b895-4778-bcb3-6afad020589d"
      },
      "execution_count": 59,
      "outputs": [
        {
          "output_type": "stream",
          "name": "stdout",
          "text": [
            "utf-8\n",
            "us-ascii\n",
            "iso-8859-1\n"
          ]
        }
      ]
    },
    {
      "cell_type": "markdown",
      "source": [
        "With this knowledge, we can now convert the contents to the encoding of this environment which is Unicode."
      ],
      "metadata": {
        "id": "ZbAdI1xXqcRU"
      }
    },
    {
      "cell_type": "code",
      "source": [
        "for i in inputfiles:\n",
        "  enc = m.buffer(i)\n",
        "  print(i.decode(enc))"
      ],
      "metadata": {
        "colab": {
          "base_uri": "https://localhost:8080/"
        },
        "id": "zWMzrmc-qV8t",
        "outputId": "70fbd366-5390-400b-c7d1-763705e6e23a"
      },
      "execution_count": 60,
      "outputs": [
        {
          "output_type": "stream",
          "name": "stdout",
          "text": [
            "C'est un fichier en français.\n",
            "\n",
            "This is a file in English.\n",
            "\n",
            "Tämä tiedosto on Suomeksi.\n",
            "\n"
          ]
        }
      ]
    },
    {
      "cell_type": "markdown",
      "source": [
        "For more details on this topic, Brad Solomon has an excellent [tutorial](https://realpython.com/python-encodings-guide/#encoding-and-decoding-in-python-3) available online for free."
      ],
      "metadata": {
        "id": "hrnr77LtnRNZ"
      }
    }
  ]
}