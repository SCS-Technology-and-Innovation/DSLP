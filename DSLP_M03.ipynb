{
  "nbformat": 4,
  "nbformat_minor": 0,
  "metadata": {
    "colab": {
      "provenance": [],
      "authorship_tag": "ABX9TyOw7WKcuHWt4HgktKnzLUff",
      "include_colab_link": true
    },
    "kernelspec": {
      "name": "python3",
      "display_name": "Python 3"
    },
    "language_info": {
      "name": "python"
    }
  },
  "cells": [
    {
      "cell_type": "markdown",
      "metadata": {
        "id": "view-in-github",
        "colab_type": "text"
      },
      "source": [
        "<a href=\"https://colab.research.google.com/github/SCS-Technology-and-Innovation/DSLP/blob/main/DSLP_M03.ipynb\" target=\"_parent\"><img src=\"https://colab.research.google.com/assets/colab-badge.svg\" alt=\"Open In Colab\"/></a>"
      ]
    },
    {
      "cell_type": "markdown",
      "source": [
        "# Putting things in\n",
        "\n",
        "Much like XML, HTML is a language for providing a structure to document content. Specifically, webpage content.\n",
        "\n",
        "[HTML tutorial](https://www.w3schools.com/html/)\n",
        "\n",
        "The layout and the style that the content gets is not supposed to be controlled from within the HTML document, but instead handled by a separate document written in a language called CSS.\n",
        "\n",
        "[Tutorial for cascading style sheets](https://www.w3schools.com/css/default.asp)\n",
        "\n",
        "One can of course embed the CSS within the HTML if need be, just like we can embed a DTD within an XML, but if more than one document share the same CSS (or DTD), it is better to store it as an independent document.\n",
        "\n",
        "(This is a good time to think about all the pros and cons of keeping such files separate versus embedded.)\n",
        "\n",
        "In this module, we take XML content, place fields from it within an HTML document that then gets styled with a [simple CSS](https://scs-technology-and-innovation.github.io/courses/DSLP/card.css).\n",
        "\n",
        "The end result will be a populated HTML file much like [this example](https://scs-technology-and-innovation.github.io/courses/DSLP/example.html)."
      ],
      "metadata": {
        "id": "AWhEcskMnHFV"
      }
    },
    {
      "cell_type": "code",
      "execution_count": 59,
      "metadata": {
        "id": "NYhNG53hnEwh"
      },
      "outputs": [],
      "source": [
        "xmlurl = 'https://raw.githubusercontent.com/SCS-Technology-and-Innovation/DSLP/main/data/card.xml'\n",
        "htmlurl = 'https://raw.githubusercontent.com/SCS-Technology-and-Innovation/DSLP/main/data/card.html'\n",
        "\n",
        "import urllib.request\n",
        "\n",
        "xml = urllib.request.urlopen(xmlurl).read()\n",
        "html = urllib.request.urlopen(htmlurl).read().decode()"
      ]
    },
    {
      "cell_type": "markdown",
      "source": [
        "Let's examine this information."
      ],
      "metadata": {
        "id": "7WvlpuVUwkyd"
      }
    },
    {
      "cell_type": "code",
      "source": [
        "print(xml.decode())"
      ],
      "metadata": {
        "colab": {
          "base_uri": "https://localhost:8080/"
        },
        "id": "TjbLWmPNxl5c",
        "outputId": "27a517bc-fd33-46c4-9db2-9a83f9858071"
      },
      "execution_count": 60,
      "outputs": [
        {
          "output_type": "stream",
          "name": "stdout",
          "text": [
            "<?xml version=\"1.0\" encoding=\"UTF-8\"?>\n",
            "<card>\n",
            "  <name>Elisa</name>\n",
            "  <title>geek in residence</title>\n",
            "  <email>fake@email.ca</email>\n",
            "  <logo>https://satuelisa.github.io/favicon-32x32.png</logo>\n",
            "</card>\n",
            "\n"
          ]
        }
      ]
    },
    {
      "cell_type": "markdown",
      "source": [
        "We have a name, a job title, an email, and the URL for a company logo. Four pieces of information."
      ],
      "metadata": {
        "id": "8RngBPhbxnyr"
      }
    },
    {
      "cell_type": "code",
      "source": [
        "print(html)"
      ],
      "metadata": {
        "colab": {
          "base_uri": "https://localhost:8080/"
        },
        "id": "4CpuNsbkxrLr",
        "outputId": "72a8a9b8-b094-4ee0-e5af-7921f3e7db63"
      },
      "execution_count": 61,
      "outputs": [
        {
          "output_type": "stream",
          "name": "stdout",
          "text": [
            "<!DOCTYPE html>\n",
            "<html lang=\"en\">\n",
            "  <head>\n",
            "    <link rel=\"stylesheet\"\n",
            "\t  type=\"text/css\"\n",
            "\t  href=\"https://scs-technology-and-innovation.github.io/courses/DSLP/card.css\" />\n",
            "    <title>Business card</title>\n",
            "  </head>\n",
            "  <body>\n",
            "    <div class=\"card\">\n",
            "      <div class=\"name\"></div>\n",
            "      <div class=\"title\"></div>\n",
            "      <div class=\"email\"></div>\n",
            "      <div class=\"logo\"></div>\n",
            "    </div>\n",
            "  </body>\n",
            "</html>\n",
            "\n"
          ]
        }
      ]
    },
    {
      "cell_type": "markdown",
      "source": [
        "Here we clearly have four slots into these four pieces of information should go. In order to put them there, we need to *parse* both documents. Luckily `lxml` and `BeautifulSoup` we encountered in Module 2 can both handle this. In the below examples, the latter is used for the XML and the former for HTML, but both libraries can parse both formats."
      ],
      "metadata": {
        "id": "a0W-Oev4xxkk"
      }
    },
    {
      "cell_type": "code",
      "source": [
        "from bs4 import BeautifulSoup\n",
        "\n",
        "htmldata = BeautifulSoup(html, 'html.parser')\n",
        "htmldata.find_all('div') # let's see what's inside just the div part that we need to work with"
      ],
      "metadata": {
        "colab": {
          "base_uri": "https://localhost:8080/"
        },
        "id": "D6EiJzc_yEJV",
        "outputId": "7ab4667a-156c-47c2-9c3b-7f8654a03afa"
      },
      "execution_count": 62,
      "outputs": [
        {
          "output_type": "execute_result",
          "data": {
            "text/plain": [
              "[<div class=\"card\">\n",
              " <div class=\"name\"></div>\n",
              " <div class=\"title\"></div>\n",
              " <div class=\"email\"></div>\n",
              " <div class=\"logo\"></div>\n",
              " </div>,\n",
              " <div class=\"name\"></div>,\n",
              " <div class=\"title\"></div>,\n",
              " <div class=\"email\"></div>,\n",
              " <div class=\"logo\"></div>]"
            ]
          },
          "metadata": {},
          "execution_count": 62
        }
      ]
    },
    {
      "cell_type": "markdown",
      "source": [
        "We can access individual fields."
      ],
      "metadata": {
        "id": "p9hFsAM_yjL_"
      }
    },
    {
      "cell_type": "code",
      "source": [
        "htmldata.select('.name')"
      ],
      "metadata": {
        "colab": {
          "base_uri": "https://localhost:8080/"
        },
        "id": "KuwVgyWhydG4",
        "outputId": "a8f17072-e9dd-43ae-9d94-985decb4fa9b"
      },
      "execution_count": 63,
      "outputs": [
        {
          "output_type": "execute_result",
          "data": {
            "text/plain": [
              "[<div class=\"name\"></div>]"
            ]
          },
          "metadata": {},
          "execution_count": 63
        }
      ]
    },
    {
      "cell_type": "markdown",
      "source": [
        "We can also modify their content."
      ],
      "metadata": {
        "id": "v9D48Mc9yl8L"
      }
    },
    {
      "cell_type": "code",
      "source": [
        "substitution = htmldata.new_tag('div', **{'class':'name'})\n",
        "substitution.string = 'Test'\n",
        "substitution"
      ],
      "metadata": {
        "colab": {
          "base_uri": "https://localhost:8080/"
        },
        "id": "Kp0LLaonyoej",
        "outputId": "7679230f-8a1f-4e58-8eec-5813f4ad335a"
      },
      "execution_count": 64,
      "outputs": [
        {
          "output_type": "execute_result",
          "data": {
            "text/plain": [
              "<div class=\"name\">Test</div>"
            ]
          },
          "metadata": {},
          "execution_count": 64
        }
      ]
    },
    {
      "cell_type": "markdown",
      "source": [
        "Plug it in and check it out."
      ],
      "metadata": {
        "id": "5_a4hCo2zUOm"
      }
    },
    {
      "cell_type": "code",
      "source": [
        "htmldata.select('.name')[0].replace_with(substitution)\n",
        "htmldata.select('.name')"
      ],
      "metadata": {
        "colab": {
          "base_uri": "https://localhost:8080/"
        },
        "id": "VEWcyVEuzVj8",
        "outputId": "72b3f7b4-1e19-4952-975a-b4e0de0d39ed"
      },
      "execution_count": 65,
      "outputs": [
        {
          "output_type": "execute_result",
          "data": {
            "text/plain": [
              "[<div class=\"name\">Test</div>]"
            ]
          },
          "metadata": {},
          "execution_count": 65
        }
      ]
    },
    {
      "cell_type": "markdown",
      "source": [
        "Now we just need the content from the XML to plug it in like this."
      ],
      "metadata": {
        "id": "azSBPrEi0I9n"
      }
    },
    {
      "cell_type": "code",
      "source": [
        "from lxml import etree\n",
        "xmldata = etree.XML(xml)\n",
        "etree.tostring(xmldata, pretty_print = True, encoding = 'UTF-8')"
      ],
      "metadata": {
        "colab": {
          "base_uri": "https://localhost:8080/"
        },
        "id": "YOjiRQHW0N_O",
        "outputId": "ce2f8c32-e840-44f2-d143-ef039517d126"
      },
      "execution_count": 66,
      "outputs": [
        {
          "output_type": "execute_result",
          "data": {
            "text/plain": [
              "b'<card>\\n  <name>Elisa</name>\\n  <title>geek in residence</title>\\n  <email>fake@email.ca</email>\\n  <logo>https://satuelisa.github.io/favicon-32x32.png</logo>\\n</card>\\n'"
            ]
          },
          "metadata": {},
          "execution_count": 66
        }
      ]
    },
    {
      "cell_type": "code",
      "source": [
        "xmldata.find('name').text"
      ],
      "metadata": {
        "colab": {
          "base_uri": "https://localhost:8080/",
          "height": 42
        },
        "id": "Xi2PcOfW04Et",
        "outputId": "be189c07-8763-4cd6-8167-13f8b51db162"
      },
      "execution_count": 67,
      "outputs": [
        {
          "output_type": "execute_result",
          "data": {
            "text/plain": [
              "'Elisa'"
            ],
            "application/vnd.google.colaboratory.intrinsic+json": {
              "type": "string"
            }
          },
          "metadata": {},
          "execution_count": 67
        }
      ]
    },
    {
      "cell_type": "markdown",
      "source": [
        "All set 😸"
      ],
      "metadata": {
        "id": "xEWMfarB1IbR"
      }
    },
    {
      "cell_type": "code",
      "source": [
        "for target in [ 'name', 'title', 'email' ]:\n",
        "  s = htmldata.new_tag('div', **{'class': target })\n",
        "  s.string = xmldata.find(target).text\n",
        "  htmldata.select('.' + target)[0].replace_with(s)"
      ],
      "metadata": {
        "id": "kpRNw7ez1Kvv"
      },
      "execution_count": 68,
      "outputs": []
    },
    {
      "cell_type": "markdown",
      "source": [
        "That should have taken care of the first three."
      ],
      "metadata": {
        "id": "aA-MEdlq1ref"
      }
    },
    {
      "cell_type": "code",
      "source": [
        "htmldata"
      ],
      "metadata": {
        "colab": {
          "base_uri": "https://localhost:8080/"
        },
        "id": "6fP1gKpILltA",
        "outputId": "803dd73b-09d4-4df9-9a96-a8b5a48bcda8"
      },
      "execution_count": 69,
      "outputs": [
        {
          "output_type": "execute_result",
          "data": {
            "text/plain": [
              "<!DOCTYPE html>\n",
              "\n",
              "<html lang=\"en\">\n",
              "<head>\n",
              "<link href=\"https://scs-technology-and-innovation.github.io/courses/DSLP/card.css\" rel=\"stylesheet\" type=\"text/css\"/>\n",
              "<title>Business card</title>\n",
              "</head>\n",
              "<body>\n",
              "<div class=\"card\">\n",
              "<div class=\"name\">Elisa</div>\n",
              "<div class=\"title\">geek in residence</div>\n",
              "<div class=\"email\">fake@email.ca</div>\n",
              "<div class=\"logo\"></div>\n",
              "</div>\n",
              "</body>\n",
              "</html>"
            ]
          },
          "metadata": {},
          "execution_count": 69
        }
      ]
    },
    {
      "cell_type": "markdown",
      "source": [
        "For the image, we have to insert the HTML to express it is an `img` with a specific URL as `src` and the desired `width`. This `img` is a tag on its own that needs to be inside (nested as a *child* tag) the `div` for `logo`."
      ],
      "metadata": {
        "id": "jov9FXRKLl_q"
      }
    },
    {
      "cell_type": "code",
      "source": [
        "url = xmldata.find('logo').text\n",
        "url"
      ],
      "metadata": {
        "id": "pJm3WQoB1tmf",
        "colab": {
          "base_uri": "https://localhost:8080/",
          "height": 42
        },
        "outputId": "13a15e06-d6b8-403f-96c1-f40b02d71591"
      },
      "execution_count": 70,
      "outputs": [
        {
          "output_type": "execute_result",
          "data": {
            "text/plain": [
              "'https://satuelisa.github.io/favicon-32x32.png'"
            ],
            "application/vnd.google.colaboratory.intrinsic+json": {
              "type": "string"
            }
          },
          "metadata": {},
          "execution_count": 70
        }
      ]
    },
    {
      "cell_type": "code",
      "source": [
        "sdiv = htmldata.new_tag('div', **{'class': 'logo' })\n",
        "simg = htmldata.new_tag('img', **{'src': url, 'width': 250 })\n",
        "sdiv.append(simg) # nest\n",
        "sdiv"
      ],
      "metadata": {
        "colab": {
          "base_uri": "https://localhost:8080/"
        },
        "id": "pCQSrZ3TLYBp",
        "outputId": "479334e6-7d1f-4f6c-cc57-ba601dc4179f"
      },
      "execution_count": 71,
      "outputs": [
        {
          "output_type": "execute_result",
          "data": {
            "text/plain": [
              "<div class=\"logo\"><img src=\"https://satuelisa.github.io/favicon-32x32.png\" width=\"250\"/></div>"
            ]
          },
          "metadata": {},
          "execution_count": 71
        }
      ]
    },
    {
      "cell_type": "code",
      "source": [
        "htmldata.select('.logo')[0].replace_with(sdiv)\n",
        "htmldata"
      ],
      "metadata": {
        "colab": {
          "base_uri": "https://localhost:8080/"
        },
        "id": "00Q-NdhjMPmo",
        "outputId": "fca6e59c-0beb-4fde-dab3-5b5faf33b6a4"
      },
      "execution_count": 72,
      "outputs": [
        {
          "output_type": "execute_result",
          "data": {
            "text/plain": [
              "<!DOCTYPE html>\n",
              "\n",
              "<html lang=\"en\">\n",
              "<head>\n",
              "<link href=\"https://scs-technology-and-innovation.github.io/courses/DSLP/card.css\" rel=\"stylesheet\" type=\"text/css\"/>\n",
              "<title>Business card</title>\n",
              "</head>\n",
              "<body>\n",
              "<div class=\"card\">\n",
              "<div class=\"name\">Elisa</div>\n",
              "<div class=\"title\">geek in residence</div>\n",
              "<div class=\"email\">fake@email.ca</div>\n",
              "<div class=\"logo\"><img src=\"https://satuelisa.github.io/favicon-32x32.png\" width=\"250\"/></div>\n",
              "</div>\n",
              "</body>\n",
              "</html>"
            ]
          },
          "metadata": {},
          "execution_count": 72
        }
      ]
    },
    {
      "cell_type": "markdown",
      "source": [
        "Let's put this in a file that we can download and view on a web browser."
      ],
      "metadata": {
        "id": "YR-fcr32MtsA"
      }
    },
    {
      "cell_type": "code",
      "source": [
        "with open('ourcard.html', 'w') as destination:\n",
        "  print(htmldata, file = destination)"
      ],
      "metadata": {
        "id": "y1-jIGwkMx5G"
      },
      "execution_count": 73,
      "outputs": []
    },
    {
      "cell_type": "markdown",
      "source": [
        "There's a file on colab now. How do we get our hands on it without clicking around using a mouse? True professionals just use the keyboard 😉"
      ],
      "metadata": {
        "id": "Gr0auwasM5s-"
      }
    },
    {
      "cell_type": "code",
      "source": [
        "from google.colab import files\n",
        "\n",
        "files.download('ourcard.html')"
      ],
      "metadata": {
        "colab": {
          "base_uri": "https://localhost:8080/",
          "height": 17
        },
        "id": "rK0Rd98wNET9",
        "outputId": "430c86dc-3318-4843-9646-18134c841ed7"
      },
      "execution_count": 74,
      "outputs": [
        {
          "output_type": "display_data",
          "data": {
            "text/plain": [
              "<IPython.core.display.Javascript object>"
            ],
            "application/javascript": [
              "\n",
              "    async function download(id, filename, size) {\n",
              "      if (!google.colab.kernel.accessAllowed) {\n",
              "        return;\n",
              "      }\n",
              "      const div = document.createElement('div');\n",
              "      const label = document.createElement('label');\n",
              "      label.textContent = `Downloading \"${filename}\": `;\n",
              "      div.appendChild(label);\n",
              "      const progress = document.createElement('progress');\n",
              "      progress.max = size;\n",
              "      div.appendChild(progress);\n",
              "      document.body.appendChild(div);\n",
              "\n",
              "      const buffers = [];\n",
              "      let downloaded = 0;\n",
              "\n",
              "      const channel = await google.colab.kernel.comms.open(id);\n",
              "      // Send a message to notify the kernel that we're ready.\n",
              "      channel.send({})\n",
              "\n",
              "      for await (const message of channel.messages) {\n",
              "        // Send a message to notify the kernel that we're ready.\n",
              "        channel.send({})\n",
              "        if (message.buffers) {\n",
              "          for (const buffer of message.buffers) {\n",
              "            buffers.push(buffer);\n",
              "            downloaded += buffer.byteLength;\n",
              "            progress.value = downloaded;\n",
              "          }\n",
              "        }\n",
              "      }\n",
              "      const blob = new Blob(buffers, {type: 'application/binary'});\n",
              "      const a = document.createElement('a');\n",
              "      a.href = window.URL.createObjectURL(blob);\n",
              "      a.download = filename;\n",
              "      div.appendChild(a);\n",
              "      a.click();\n",
              "      div.remove();\n",
              "    }\n",
              "  "
            ]
          },
          "metadata": {}
        },
        {
          "output_type": "display_data",
          "data": {
            "text/plain": [
              "<IPython.core.display.Javascript object>"
            ],
            "application/javascript": [
              "download(\"download_254fbe32-cff4-438e-bade-f942a2d2b862\", \"ourcard.html\", 453)"
            ]
          },
          "metadata": {}
        }
      ]
    },
    {
      "cell_type": "markdown",
      "source": [
        "Click on the download notification on your browser to view the generated HTML file. If you do not see one, check your downloads folder."
      ],
      "metadata": {
        "id": "Hsy-GgP8NJvd"
      }
    }
  ]
}