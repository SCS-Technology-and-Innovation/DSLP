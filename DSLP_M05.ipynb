{
  "nbformat": 4,
  "nbformat_minor": 0,
  "metadata": {
    "colab": {
      "provenance": [],
      "authorship_tag": "ABX9TyNeXVfHu2OgKuemhR3yCVlv",
      "include_colab_link": true
    },
    "kernelspec": {
      "name": "python3",
      "display_name": "Python 3"
    },
    "language_info": {
      "name": "python"
    }
  },
  "cells": [
    {
      "cell_type": "markdown",
      "metadata": {
        "id": "view-in-github",
        "colab_type": "text"
      },
      "source": [
        "<a href=\"https://colab.research.google.com/github/SCS-Technology-and-Innovation/DSLP/blob/main/DSLP_M05.ipynb\" target=\"_parent\"><img src=\"https://colab.research.google.com/assets/colab-badge.svg\" alt=\"Open In Colab\"/></a>"
      ]
    },
    {
      "cell_type": "markdown",
      "source": [
        "# Batch replacements\n",
        "\n",
        "You will need some files so that we can practice batch processing. Please download [this ZIP with five XML files](https://github.com/SCS-Technology-and-Innovation/DSLP/blob/main/data/batch.zip) and then click on the folder icon on the left toolbar on Colab. Click then on the upper toolbar to upload the five files into the environment.\n",
        "\n",
        "The end result should look like this:\n",
        "\n",
        "![](https://github.com/SCS-Technology-and-Innovation/DSLP/blob/main/img/files.png?raw=true)\n",
        "\n",
        "Let's prepare a list with the names of the files.\n",
        "\n",
        "\n"
      ],
      "metadata": {
        "id": "m15zo_W0h-di"
      }
    },
    {
      "cell_type": "code",
      "execution_count": 1,
      "metadata": {
        "colab": {
          "base_uri": "https://localhost:8080/"
        },
        "id": "1rVd53ZPhneE",
        "outputId": "44cae78f-5936-4834-da13-a4175f51856b"
      },
      "outputs": [
        {
          "output_type": "execute_result",
          "data": {
            "text/plain": [
              "['c1.xml', 'c2.xml', 'c3.xml', 'c4.xml', 'c5.xml']"
            ]
          },
          "metadata": {},
          "execution_count": 1
        }
      ],
      "source": [
        "filenames = [ f'c{i}.xml' for i in range(1, 6) ]\n",
        "filenames"
      ]
    },
    {
      "cell_type": "markdown",
      "source": [
        "We can now use a `for` loop to read the files."
      ],
      "metadata": {
        "id": "U_Xb9_IZqtpQ"
      }
    },
    {
      "cell_type": "code",
      "source": [
        "for f in filenames:\n",
        "  with open(f) as source:\n",
        "    print(source.readlines())"
      ],
      "metadata": {
        "colab": {
          "base_uri": "https://localhost:8080/"
        },
        "id": "0Phk2_yDqbqv",
        "outputId": "59ee0ecb-8ddb-4462-c2b0-479478a1b0fb"
      },
      "execution_count": 2,
      "outputs": [
        {
          "output_type": "stream",
          "name": "stdout",
          "text": [
            "['<?xml version=\"1.0\" encoding=\"UTF-8\"?>\\n', '<card>\\n', '  <name>Elisa</name>\\n', '  <title>geek in residence</title>\\n', '  <email>fake@email.ca</email>\\n', '  <logo>https://satuelisa.github.io/favicon-32x32.png</logo>\\n', '</card>\\n']\n",
            "['<?xml version=\"1.0\" encoding=\"UTF-8\"?>\\n', '<card>\\n', '  <name>Karla</name>\\n', '  <title>recruiter</title>\\n', '  <email>hr@email.ca</email>\\n', '  <logo>https://satuelisa.github.io/favicon-32x32.png</logo>\\n', '</card>\\n']\n",
            "['<?xml version=\"1.0\" encoding=\"UTF-8\"?>\\n', '<card>\\n', '  <name>Sonia</name>\\n', '  <title>designer</title>\\n', '  <email>ux@email.ca</email>\\n', '  <logo>https://satuelisa.github.io/favicon-32x32.png</logo>\\n', '</card>\\n']\n",
            "['<?xml version=\"1.0\" encoding=\"UTF-8\"?>\\n', '<card>\\n', '  <name>Ali</name>\\n', '  <title>manager</title>\\n', '  <email>boss@email.ca</email>\\n', '  <logo>https://satuelisa.github.io/favicon-32x32.png</logo>\\n', '</card>\\n']\n",
            "['<?xml version=\"1.0\" encoding=\"UTF-8\"?>\\n', '<card>\\n', '  <name>Robin</name>\\n', '  <title>intesting person</title>\\n', '  <email>robin@email.ca</email>\\n', '  <logo>https://satuelisa.github.io/favicon-32x32.png</logo>\\n', '</card>\\n']\n"
          ]
        }
      ]
    },
    {
      "cell_type": "markdown",
      "source": [
        "This means we are all set to employ regular expressions to identify and **replace** content that matches our needs across all files!\n",
        "\n",
        "As a first task, let's assume the company logo has changed. The old URL needs to be replaced by a new one in all the XML files."
      ],
      "metadata": {
        "id": "-EmoBVhhq0qL"
      }
    },
    {
      "cell_type": "code",
      "source": [
        "newURL = 'https://upload.wikimedia.org/wikipedia/commons/thumb/7/79/The-sun-1898551_Pixabay_by_maciej326.png/244px-The-sun-1898551_Pixabay_by_maciej326.png'\n",
        "oldURL = 'https://satuelisa.github.io/favicon-32x32.png'\n",
        "\n",
        "import re\n",
        "pattern = re.compile(oldURL, re.S)\n",
        "\n",
        "for f in filenames:\n",
        "  with open(f) as source:\n",
        "    content = ''.join(source.readlines())\n",
        "    modified = re.sub(pattern, newURL, content)\n",
        "    print(modified)"
      ],
      "metadata": {
        "colab": {
          "base_uri": "https://localhost:8080/"
        },
        "id": "tiLF2RfXs35D",
        "outputId": "f5cc0ebc-978c-4e98-9e8e-715cf8a40418"
      },
      "execution_count": 3,
      "outputs": [
        {
          "output_type": "stream",
          "name": "stdout",
          "text": [
            "<?xml version=\"1.0\" encoding=\"UTF-8\"?>\n",
            "<card>\n",
            "  <name>Elisa</name>\n",
            "  <title>geek in residence</title>\n",
            "  <email>fake@email.ca</email>\n",
            "  <logo>https://upload.wikimedia.org/wikipedia/commons/thumb/7/79/The-sun-1898551_Pixabay_by_maciej326.png/244px-The-sun-1898551_Pixabay_by_maciej326.png</logo>\n",
            "</card>\n",
            "\n",
            "<?xml version=\"1.0\" encoding=\"UTF-8\"?>\n",
            "<card>\n",
            "  <name>Karla</name>\n",
            "  <title>recruiter</title>\n",
            "  <email>hr@email.ca</email>\n",
            "  <logo>https://upload.wikimedia.org/wikipedia/commons/thumb/7/79/The-sun-1898551_Pixabay_by_maciej326.png/244px-The-sun-1898551_Pixabay_by_maciej326.png</logo>\n",
            "</card>\n",
            "\n",
            "<?xml version=\"1.0\" encoding=\"UTF-8\"?>\n",
            "<card>\n",
            "  <name>Sonia</name>\n",
            "  <title>designer</title>\n",
            "  <email>ux@email.ca</email>\n",
            "  <logo>https://upload.wikimedia.org/wikipedia/commons/thumb/7/79/The-sun-1898551_Pixabay_by_maciej326.png/244px-The-sun-1898551_Pixabay_by_maciej326.png</logo>\n",
            "</card>\n",
            "\n",
            "<?xml version=\"1.0\" encoding=\"UTF-8\"?>\n",
            "<card>\n",
            "  <name>Ali</name>\n",
            "  <title>manager</title>\n",
            "  <email>boss@email.ca</email>\n",
            "  <logo>https://upload.wikimedia.org/wikipedia/commons/thumb/7/79/The-sun-1898551_Pixabay_by_maciej326.png/244px-The-sun-1898551_Pixabay_by_maciej326.png</logo>\n",
            "</card>\n",
            "\n",
            "<?xml version=\"1.0\" encoding=\"UTF-8\"?>\n",
            "<card>\n",
            "  <name>Robin</name>\n",
            "  <title>intesting person</title>\n",
            "  <email>robin@email.ca</email>\n",
            "  <logo>https://upload.wikimedia.org/wikipedia/commons/thumb/7/79/The-sun-1898551_Pixabay_by_maciej326.png/244px-The-sun-1898551_Pixabay_by_maciej326.png</logo>\n",
            "</card>\n",
            "\n"
          ]
        }
      ]
    },
    {
      "cell_type": "markdown",
      "source": [
        "Let's also change the domain from the email addresses from `@email.ca` to `@another.com`."
      ],
      "metadata": {
        "id": "tuEs9-unuciE"
      }
    },
    {
      "cell_type": "code",
      "source": [
        "oldDomain = '@email.ca'\n",
        "newDomain = '@another.com'\n",
        "\n",
        "p2 = re.compile(oldDomain, re.S)\n",
        "\n",
        "for f in filenames:\n",
        "  with open(f) as source:\n",
        "    content = ''.join(source.readlines()) # read the files\n",
        "    modified = re.sub(pattern, newURL, content) # change the logo URL\n",
        "    m2 = re.sub(p2, newDomain, modified) # change also the email domain\n",
        "    print(m2)"
      ],
      "metadata": {
        "colab": {
          "base_uri": "https://localhost:8080/"
        },
        "id": "_1HG1EJWupbS",
        "outputId": "0d888ba4-bd8b-406c-9a16-13344858a837"
      },
      "execution_count": 5,
      "outputs": [
        {
          "output_type": "stream",
          "name": "stdout",
          "text": [
            "<?xml version=\"1.0\" encoding=\"UTF-8\"?>\n",
            "<card>\n",
            "  <name>Elisa</name>\n",
            "  <title>geek in residence</title>\n",
            "  <email>fake@another.com</email>\n",
            "  <logo>https://upload.wikimedia.org/wikipedia/commons/thumb/7/79/The-sun-1898551_Pixabay_by_maciej326.png/244px-The-sun-1898551_Pixabay_by_maciej326.png</logo>\n",
            "</card>\n",
            "\n",
            "<?xml version=\"1.0\" encoding=\"UTF-8\"?>\n",
            "<card>\n",
            "  <name>Karla</name>\n",
            "  <title>recruiter</title>\n",
            "  <email>hr@another.com</email>\n",
            "  <logo>https://upload.wikimedia.org/wikipedia/commons/thumb/7/79/The-sun-1898551_Pixabay_by_maciej326.png/244px-The-sun-1898551_Pixabay_by_maciej326.png</logo>\n",
            "</card>\n",
            "\n",
            "<?xml version=\"1.0\" encoding=\"UTF-8\"?>\n",
            "<card>\n",
            "  <name>Sonia</name>\n",
            "  <title>designer</title>\n",
            "  <email>ux@another.com</email>\n",
            "  <logo>https://upload.wikimedia.org/wikipedia/commons/thumb/7/79/The-sun-1898551_Pixabay_by_maciej326.png/244px-The-sun-1898551_Pixabay_by_maciej326.png</logo>\n",
            "</card>\n",
            "\n",
            "<?xml version=\"1.0\" encoding=\"UTF-8\"?>\n",
            "<card>\n",
            "  <name>Ali</name>\n",
            "  <title>manager</title>\n",
            "  <email>boss@another.com</email>\n",
            "  <logo>https://upload.wikimedia.org/wikipedia/commons/thumb/7/79/The-sun-1898551_Pixabay_by_maciej326.png/244px-The-sun-1898551_Pixabay_by_maciej326.png</logo>\n",
            "</card>\n",
            "\n",
            "<?xml version=\"1.0\" encoding=\"UTF-8\"?>\n",
            "<card>\n",
            "  <name>Robin</name>\n",
            "  <title>intesting person</title>\n",
            "  <email>robin@another.com</email>\n",
            "  <logo>https://upload.wikimedia.org/wikipedia/commons/thumb/7/79/The-sun-1898551_Pixabay_by_maciej326.png/244px-The-sun-1898551_Pixabay_by_maciej326.png</logo>\n",
            "</card>\n",
            "\n"
          ]
        }
      ]
    },
    {
      "cell_type": "markdown",
      "source": [
        "Now we evidently need to update the files themselves to contain the modified content. It is often safer to create a second set of files instead of risking the originals, so let's so that. Then, when we know the file content is okay, we can rename the auxiliaries to overwrite the originals."
      ],
      "metadata": {
        "id": "v5_2KFJmvWkQ"
      }
    },
    {
      "cell_type": "code",
      "source": [
        "for f in filenames:\n",
        "  aux = f.replace('.xml', 't.xml') # make temporary files with slighly edited file names\n",
        "  with open(f) as source:\n",
        "    content = ''.join(source.readlines()) # read the files\n",
        "    modified = re.sub(pattern, newURL, content) # change the logo URL\n",
        "    m2 = re.sub(p2, newDomain, modified) # change also the email domain\n",
        "    with open(aux, 'w') as target:\n",
        "      print(m2, file = target)"
      ],
      "metadata": {
        "id": "AyociKZGvkZe"
      },
      "execution_count": 6,
      "outputs": []
    },
    {
      "cell_type": "markdown",
      "source": [
        "After a small delay, these new files appear on the sidebar on colab.\n",
        "\n",
        "![](https://github.com/SCS-Technology-and-Innovation/DSLP/blob/main/img/morefiles.png?raw=true)\n",
        "\n",
        "Let's check their content by reading them and printing the contents.\n"
      ],
      "metadata": {
        "id": "WZFR-xZUwRTH"
      }
    },
    {
      "cell_type": "code",
      "source": [
        "import os\n",
        "myfiles = os.listdir('.')\n",
        "for filename in myfiles:\n",
        "  if 't.xml' in filename:\n",
        "    with open(filename) as source:\n",
        "      print(source.readlines())"
      ],
      "metadata": {
        "colab": {
          "base_uri": "https://localhost:8080/"
        },
        "id": "K6BdtOm0wjdV",
        "outputId": "4b740cc6-38ee-48c2-fb59-61561b08817f"
      },
      "execution_count": 7,
      "outputs": [
        {
          "output_type": "stream",
          "name": "stdout",
          "text": [
            "['<?xml version=\"1.0\" encoding=\"UTF-8\"?>\\n', '<card>\\n', '  <name>Elisa</name>\\n', '  <title>geek in residence</title>\\n', '  <email>fake@another.com</email>\\n', '  <logo>https://upload.wikimedia.org/wikipedia/commons/thumb/7/79/The-sun-1898551_Pixabay_by_maciej326.png/244px-The-sun-1898551_Pixabay_by_maciej326.png</logo>\\n', '</card>\\n', '\\n']\n",
            "['<?xml version=\"1.0\" encoding=\"UTF-8\"?>\\n', '<card>\\n', '  <name>Robin</name>\\n', '  <title>intesting person</title>\\n', '  <email>robin@another.com</email>\\n', '  <logo>https://upload.wikimedia.org/wikipedia/commons/thumb/7/79/The-sun-1898551_Pixabay_by_maciej326.png/244px-The-sun-1898551_Pixabay_by_maciej326.png</logo>\\n', '</card>\\n', '\\n']\n",
            "['<?xml version=\"1.0\" encoding=\"UTF-8\"?>\\n', '<card>\\n', '  <name>Karla</name>\\n', '  <title>recruiter</title>\\n', '  <email>hr@another.com</email>\\n', '  <logo>https://upload.wikimedia.org/wikipedia/commons/thumb/7/79/The-sun-1898551_Pixabay_by_maciej326.png/244px-The-sun-1898551_Pixabay_by_maciej326.png</logo>\\n', '</card>\\n', '\\n']\n",
            "['<?xml version=\"1.0\" encoding=\"UTF-8\"?>\\n', '<card>\\n', '  <name>Ali</name>\\n', '  <title>manager</title>\\n', '  <email>boss@another.com</email>\\n', '  <logo>https://upload.wikimedia.org/wikipedia/commons/thumb/7/79/The-sun-1898551_Pixabay_by_maciej326.png/244px-The-sun-1898551_Pixabay_by_maciej326.png</logo>\\n', '</card>\\n', '\\n']\n",
            "['<?xml version=\"1.0\" encoding=\"UTF-8\"?>\\n', '<card>\\n', '  <name>Sonia</name>\\n', '  <title>designer</title>\\n', '  <email>ux@another.com</email>\\n', '  <logo>https://upload.wikimedia.org/wikipedia/commons/thumb/7/79/The-sun-1898551_Pixabay_by_maciej326.png/244px-The-sun-1898551_Pixabay_by_maciej326.png</logo>\\n', '</card>\\n', '\\n']\n"
          ]
        }
      ]
    },
    {
      "cell_type": "markdown",
      "source": [
        "The contents look fine. We can now interact with the operating system of the virtual machine."
      ],
      "metadata": {
        "id": "prJ5k42uxC6E"
      }
    },
    {
      "cell_type": "code",
      "source": [
        "myfiles = os.listdir('.')\n",
        "for filename in myfiles:\n",
        "  if 't.xml' in filename:\n",
        "    original = filename.replace('t', '') # remove the t we added\n",
        "    os.rename(filename, original) # note that this OVERWRITES the file with that name"
      ],
      "metadata": {
        "id": "neeszK9vxS-s"
      },
      "execution_count": 8,
      "outputs": []
    },
    {
      "cell_type": "markdown",
      "source": [
        "Let's see what files we have left on the system. (After a delay, the auxiliary files disappear from the sidebar showing the files as well.)"
      ],
      "metadata": {
        "id": "xFHPlgTFxhAZ"
      }
    },
    {
      "cell_type": "code",
      "source": [
        "myfiles = os.listdir('.')\n",
        "for filename in myfiles:\n",
        "  if '.xml' in filename:\n",
        "    print(filename)"
      ],
      "metadata": {
        "colab": {
          "base_uri": "https://localhost:8080/"
        },
        "id": "Iw3nXqyvxj2o",
        "outputId": "4731487e-e344-4e63-ea56-45a7d96a78d9"
      },
      "execution_count": null,
      "outputs": [
        {
          "output_type": "stream",
          "name": "stdout",
          "text": [
            "c5.xml\n",
            "c3.xml\n",
            "c4.xml\n",
            "c2.xml\n",
            "c1.xml\n"
          ]
        }
      ]
    },
    {
      "cell_type": "markdown",
      "source": [
        "What's in them?"
      ],
      "metadata": {
        "id": "VI8Q6dSWxyNp"
      }
    },
    {
      "cell_type": "code",
      "source": [
        "for f in filenames:\n",
        "  with open(f) as source:\n",
        "    print(source.readlines())"
      ],
      "metadata": {
        "id": "ypXIjSYVxzE0",
        "outputId": "c616da1d-a03f-443e-c035-c56b0f49232b",
        "colab": {
          "base_uri": "https://localhost:8080/"
        }
      },
      "execution_count": null,
      "outputs": [
        {
          "output_type": "stream",
          "name": "stdout",
          "text": [
            "['<?xml version=\"1.0\" encoding=\"UTF-8\"?>\\n', '<card>\\n', '  <name>Elisa</name>\\n', '  <title>geek in residence</title>\\n', '  <email>fake@another.com</email>\\n', '  <logo>https://upload.wikimedia.org/wikipedia/commons/thumb/7/79/The-sun-1898551_Pixabay_by_maciej326.png/244px-The-sun-1898551_Pixabay_by_maciej326.png</logo>\\n', '</card>\\n', '\\n']\n",
            "['<?xml version=\"1.0\" encoding=\"UTF-8\"?>\\n', '<card>\\n', '  <name>Karla</name>\\n', '  <title>recruiter</title>\\n', '  <email>hr@another.com</email>\\n', '  <logo>https://upload.wikimedia.org/wikipedia/commons/thumb/7/79/The-sun-1898551_Pixabay_by_maciej326.png/244px-The-sun-1898551_Pixabay_by_maciej326.png</logo>\\n', '</card>\\n', '\\n']\n",
            "['<?xml version=\"1.0\" encoding=\"UTF-8\"?>\\n', '<card>\\n', '  <name>Sonia</name>\\n', '  <title>designer</title>\\n', '  <email>ux@another.com</email>\\n', '  <logo>https://upload.wikimedia.org/wikipedia/commons/thumb/7/79/The-sun-1898551_Pixabay_by_maciej326.png/244px-The-sun-1898551_Pixabay_by_maciej326.png</logo>\\n', '</card>\\n', '\\n']\n",
            "['<?xml version=\"1.0\" encoding=\"UTF-8\"?>\\n', '<card>\\n', '  <name>Ali</name>\\n', '  <title>manager</title>\\n', '  <email>boss@another.com</email>\\n', '  <logo>https://upload.wikimedia.org/wikipedia/commons/thumb/7/79/The-sun-1898551_Pixabay_by_maciej326.png/244px-The-sun-1898551_Pixabay_by_maciej326.png</logo>\\n', '</card>\\n', '\\n']\n",
            "['<?xml version=\"1.0\" encoding=\"UTF-8\"?>\\n', '<card>\\n', '  <name>Robin</name>\\n', '  <title>intesting person</title>\\n', '  <email>robin@another.com</email>\\n', '  <logo>https://upload.wikimedia.org/wikipedia/commons/thumb/7/79/The-sun-1898551_Pixabay_by_maciej326.png/244px-The-sun-1898551_Pixabay_by_maciej326.png</logo>\\n', '</card>\\n', '\\n']\n"
          ]
        }
      ]
    }
  ]
}