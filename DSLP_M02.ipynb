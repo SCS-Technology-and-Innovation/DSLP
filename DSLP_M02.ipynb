{
  "nbformat": 4,
  "nbformat_minor": 0,
  "metadata": {
    "colab": {
      "provenance": [],
      "authorship_tag": "ABX9TyP78rV9AeUvwfLNr0jHY0eI",
      "include_colab_link": true
    },
    "kernelspec": {
      "name": "python3",
      "display_name": "Python 3"
    },
    "language_info": {
      "name": "python"
    }
  },
  "cells": [
    {
      "cell_type": "markdown",
      "metadata": {
        "id": "view-in-github",
        "colab_type": "text"
      },
      "source": [
        "<a href=\"https://colab.research.google.com/github/SCS-Technology-and-Innovation/DSLP/blob/main/DSLP_M02.ipynb\" target=\"_parent\"><img src=\"https://colab.research.google.com/assets/colab-badge.svg\" alt=\"Open In Colab\"/></a>"
      ]
    },
    {
      "cell_type": "markdown",
      "source": [
        "# Document structure\n",
        "\n",
        "People will never give up on inventing new ways to structure information. A relatively modern-day take on this is XML (eXtensible Markup Language) that allows the specification of what elements a document may contain and how those elements relate to one another.\n",
        "\n",
        "If at any point you feel like you need details on XML that go beyond what is provided on this Colab sheet, [there is a neat w3schools tutorial on XML](https://www.w3schools.com/xml/xml_whatis.asp) you can consult."
      ],
      "metadata": {
        "id": "evBQlhzH2Qg-"
      }
    },
    {
      "cell_type": "code",
      "source": [
        "!pip install xmltodict"
      ],
      "metadata": {
        "colab": {
          "base_uri": "https://localhost:8080/"
        },
        "id": "PfuVqdox4MRF",
        "outputId": "f74ba4e1-8fea-4df8-9919-71ff851b6a89"
      },
      "execution_count": 4,
      "outputs": [
        {
          "output_type": "stream",
          "name": "stdout",
          "text": [
            "Collecting xmltodict\n",
            "  Downloading xmltodict-0.13.0-py2.py3-none-any.whl (10.0 kB)\n",
            "Installing collected packages: xmltodict\n",
            "Successfully installed xmltodict-0.13.0\n"
          ]
        }
      ]
    },
    {
      "cell_type": "code",
      "execution_count": 8,
      "metadata": {
        "id": "LZBPh6J82LZV"
      },
      "outputs": [],
      "source": [
        "from xmltodict import parse # one of many libraries to parse an XML document"
      ]
    },
    {
      "cell_type": "code",
      "source": [],
      "metadata": {
        "id": "qU7ae-IW5VNP"
      },
      "execution_count": null,
      "outputs": []
    },
    {
      "cell_type": "code",
      "source": [
        "doc = parse(inputfile)\n",
        "doc"
      ],
      "metadata": {
        "colab": {
          "base_uri": "https://localhost:8080/"
        },
        "id": "CTawgndZ40of",
        "outputId": "521438f0-335a-4cf0-8661-602620dd104c"
      },
      "execution_count": 11,
      "outputs": [
        {
          "output_type": "execute_result",
          "data": {
            "text/plain": [
              "{'document': {'author': {'name': 'Elisa', 'org': 'McGill'},\n",
              "  'title': 'Example XML file',\n",
              "  'date': {'created': {'month': 'May', 'day': '7', 'year': '2024'},\n",
              "   'updated': {'month': 'June', 'day': '15', 'year': '2024'}}}}"
            ]
          },
          "metadata": {},
          "execution_count": 11
        }
      ]
    },
    {
      "cell_type": "code",
      "source": [
        "xmlurl = 'https://raw.githubusercontent.com/SCS-Technology-and-Innovation/DSLP/main/data/doc.xml'\n",
        "\n",
        "import urllib.request # an old friend from M1\n",
        "\n",
        "# file contents\n",
        "inputfile = urllib.request.urlopen(xmlurl).read()\n",
        "print(inputfile.decode())"
      ],
      "metadata": {
        "colab": {
          "base_uri": "https://localhost:8080/"
        },
        "id": "_QFhuSxk4oMj",
        "outputId": "6b9320fb-c811-4d7f-f5f6-6a6788bf8fde"
      },
      "execution_count": 29,
      "outputs": [
        {
          "output_type": "stream",
          "name": "stdout",
          "text": [
            "<?xml version=\"1.0\" encoding=\"UTF-8\"?>\n",
            "<document>\n",
            "  <author>\n",
            "    <name>Elisa</name>\n",
            "    <org>McGill</org>\n",
            "  </author>\n",
            "  <title>Example XML file</title>\n",
            "  <date>\n",
            "    <created>\n",
            "      <month>May</month>\n",
            "      <day>7</day>\n",
            "      <year>2024</year>\n",
            "    </created>\n",
            "    <updated>\n",
            "      <month>June</month>\n",
            "      <day>15</day>\n",
            "      <year>2024</year>\n",
            "    </updated>\n",
            "  </date>\n",
            "</document>\n",
            "\n"
          ]
        }
      ]
    },
    {
      "cell_type": "markdown",
      "source": [
        "Having *parsed* the file, we can access elements of it with more ease:"
      ],
      "metadata": {
        "id": "wCQcQs4F498l"
      }
    },
    {
      "cell_type": "code",
      "source": [
        "doc['document']['title']"
      ],
      "metadata": {
        "colab": {
          "base_uri": "https://localhost:8080/",
          "height": 35
        },
        "id": "KHnVq9Qa5axj",
        "outputId": "02cd506e-46b0-4ef8-df73-65c593a6105d"
      },
      "execution_count": 16,
      "outputs": [
        {
          "output_type": "execute_result",
          "data": {
            "text/plain": [
              "'Example XML file'"
            ],
            "application/vnd.google.colaboratory.intrinsic+json": {
              "type": "string"
            }
          },
          "metadata": {},
          "execution_count": 16
        }
      ]
    },
    {
      "cell_type": "code",
      "source": [
        "doc['document']['date']['created']['year']"
      ],
      "metadata": {
        "colab": {
          "base_uri": "https://localhost:8080/",
          "height": 35
        },
        "id": "NWcASK1F5gpK",
        "outputId": "20fb31e6-7912-44ec-bd8a-6fc89d4ca72f"
      },
      "execution_count": 17,
      "outputs": [
        {
          "output_type": "execute_result",
          "data": {
            "text/plain": [
              "'2024'"
            ],
            "application/vnd.google.colaboratory.intrinsic+json": {
              "type": "string"
            }
          },
          "metadata": {},
          "execution_count": 17
        }
      ]
    },
    {
      "cell_type": "markdown",
      "source": [
        "How can we establish (optional) rules on what the document should contain? There are two competing options: document type definitions (DTD) and schemas. Let's examine those in that order."
      ],
      "metadata": {
        "id": "PsnuWMDX6Rf7"
      }
    },
    {
      "cell_type": "code",
      "source": [
        "dtdurl = 'https://raw.githubusercontent.com/SCS-Technology-and-Innovation/DSLP/main/data/doc.dtd'\n",
        "dtdcontent = inputfile = urllib.request.urlopen(dtdurl).read().decode()\n",
        "print(dtdcontent)"
      ],
      "metadata": {
        "colab": {
          "base_uri": "https://localhost:8080/"
        },
        "id": "YdvkVq6S6bU9",
        "outputId": "e888852f-37da-4d9e-8670-89d9cd4ddded"
      },
      "execution_count": 22,
      "outputs": [
        {
          "output_type": "stream",
          "name": "stdout",
          "text": [
            "<!DOCTYPE document\n",
            "[\n",
            "<!ELEMENT document (author,title,date,)>\n",
            "<!ELEMENT author (name,org)>\n",
            "<!ELEMENT title (#PCDATA)>\n",
            "<!ELEMENT date (created,updated)>\n",
            "<!ELEMENT created (month,day,year)>\n",
            "<!ELEMENT updated (month,day,year)>\n",
            "<!ELEMENT month (#PCDATA)>\n",
            "<!ELEMENT day (#PCDATA)>\n",
            "<!ELEMENT year (#PCDATA)>\n",
            "]>\n",
            "\n"
          ]
        }
      ]
    },
    {
      "cell_type": "markdown",
      "source": [
        "For the syntax of a DTD file, see for example [this geeksforgeeks tutorial](https://www.geeksforgeeks.org/dtd-syntax/)."
      ],
      "metadata": {
        "id": "TNQ8sUMl7Y0R"
      }
    },
    {
      "cell_type": "code",
      "source": [
        "from lxml import etree # a handy library that spares us the urllib preamble\n",
        "\n",
        "docxml = etree.XML('https://raw.githubusercontent.com/SCS-Technology-and-Innovation/DSLP/main/data/docwithdtd.xml')\n",
        "dtd = etree.DTD('https://raw.githubusercontent.com/SCS-Technology-and-Innovation/DSLP/main/data/doc.dtd')\n",
        "\n",
        "\n",
        "dtd.validate(docxml) # NOT WORKING YET"
      ],
      "metadata": {
        "colab": {
          "base_uri": "https://localhost:8080/",
          "height": 454
        },
        "id": "YefzbZYM6sac",
        "outputId": "4dc92746-4ec4-4a6f-c971-0a4998619bf2"
      },
      "execution_count": 28,
      "outputs": [
        {
          "output_type": "error",
          "ename": "XMLSyntaxError",
          "evalue": "Start tag expected, '<' not found, line 1, column 1 (<string>, line 1)",
          "traceback": [
            "Traceback \u001b[0;36m(most recent call last)\u001b[0m:\n",
            "  File \u001b[1;32m\"/usr/local/lib/python3.10/dist-packages/IPython/core/interactiveshell.py\"\u001b[0m, line \u001b[1;32m3553\u001b[0m, in \u001b[1;35mrun_code\u001b[0m\n    exec(code_obj, self.user_global_ns, self.user_ns)\n",
            "  File \u001b[1;32m\"<ipython-input-28-377b81dc4f32>\"\u001b[0m, line \u001b[1;32m3\u001b[0m, in \u001b[1;35m<cell line: 3>\u001b[0m\n    docxml = etree.XML('https://raw.githubusercontent.com/SCS-Technology-and-Innovation/DSLP/main/data/doc.xml')\n",
            "  File \u001b[1;32m\"src/lxml/etree.pyx\"\u001b[0m, line \u001b[1;32m3243\u001b[0m, in \u001b[1;35mlxml.etree.XML\u001b[0m\n",
            "  File \u001b[1;32m\"src/lxml/parser.pxi\"\u001b[0m, line \u001b[1;32m1916\u001b[0m, in \u001b[1;35mlxml.etree._parseMemoryDocument\u001b[0m\n",
            "  File \u001b[1;32m\"src/lxml/parser.pxi\"\u001b[0m, line \u001b[1;32m1796\u001b[0m, in \u001b[1;35mlxml.etree._parseDoc\u001b[0m\n",
            "  File \u001b[1;32m\"src/lxml/parser.pxi\"\u001b[0m, line \u001b[1;32m1085\u001b[0m, in \u001b[1;35mlxml.etree._BaseParser._parseUnicodeDoc\u001b[0m\n",
            "  File \u001b[1;32m\"src/lxml/parser.pxi\"\u001b[0m, line \u001b[1;32m618\u001b[0m, in \u001b[1;35mlxml.etree._ParserContext._handleParseResultDoc\u001b[0m\n",
            "  File \u001b[1;32m\"src/lxml/parser.pxi\"\u001b[0m, line \u001b[1;32m728\u001b[0m, in \u001b[1;35mlxml.etree._handleParseResult\u001b[0m\n",
            "\u001b[0;36m  File \u001b[0;32m\"src/lxml/parser.pxi\"\u001b[0;36m, line \u001b[0;32m657\u001b[0;36m, in \u001b[0;35mlxml.etree._raiseParseError\u001b[0;36m\u001b[0m\n",
            "\u001b[0;36m  File \u001b[0;32m\"<string>\"\u001b[0;36m, line \u001b[0;32m1\u001b[0m\n\u001b[0;31mXMLSyntaxError\u001b[0m\u001b[0;31m:\u001b[0m Start tag expected, '<' not found, line 1, column 1\n"
          ]
        }
      ]
    },
    {
      "cell_type": "markdown",
      "source": [
        "Another alternative is to use a (more powerful) schema."
      ],
      "metadata": {
        "id": "eHUffpdgAu5b"
      }
    },
    {
      "cell_type": "code",
      "source": [
        "import xmlschema\n",
        "schema = xmlschema.XMLSchema('https://raw.githubusercontent.com/SCS-Technology-and-Innovation/DSLP/main/data/doc.xsd')"
      ],
      "metadata": {
        "colab": {
          "base_uri": "https://localhost:8080/",
          "height": 575
        },
        "id": "zmiXion1FI9K",
        "outputId": "c0a5f886-1d73-428c-9a33-0a8937082195"
      },
      "execution_count": 41,
      "outputs": [
        {
          "output_type": "error",
          "ename": "ParseError",
          "evalue": "no element found: line 42, column 0 (<string>)",
          "traceback": [
            "Traceback \u001b[0;36m(most recent call last)\u001b[0m:\n",
            "  File \u001b[1;32m\"/usr/local/lib/python3.10/dist-packages/IPython/core/interactiveshell.py\"\u001b[0m, line \u001b[1;32m3553\u001b[0m, in \u001b[1;35mrun_code\u001b[0m\n    exec(code_obj, self.user_global_ns, self.user_ns)\n",
            "  File \u001b[1;32m\"<ipython-input-41-7bb5d4896722>\"\u001b[0m, line \u001b[1;32m2\u001b[0m, in \u001b[1;35m<cell line: 2>\u001b[0m\n    schema = xmlschema.XMLSchema('https://raw.githubusercontent.com/SCS-Technology-and-Innovation/DSLP/main/data/doc.xsd')\n",
            "  File \u001b[1;32m\"/usr/local/lib/python3.10/dist-packages/xmlschema/validators/schemas.py\"\u001b[0m, line \u001b[1;32m349\u001b[0m, in \u001b[1;35m__init__\u001b[0m\n    self.source = XMLResource(\n",
            "  File \u001b[1;32m\"/usr/local/lib/python3.10/dist-packages/xmlschema/resources.py\"\u001b[0m, line \u001b[1;32m258\u001b[0m, in \u001b[1;35m__init__\u001b[0m\n    self.parse(source, lazy)\n",
            "  File \u001b[1;32m\"/usr/local/lib/python3.10/dist-packages/xmlschema/resources.py\"\u001b[0m, line \u001b[1;32m614\u001b[0m, in \u001b[1;35mparse\u001b[0m\n    self._parse_resource(resource, url, lazy)\n",
            "  File \u001b[1;32m\"/usr/local/lib/python3.10/dist-packages/xmlschema/resources.py\"\u001b[0m, line \u001b[1;32m578\u001b[0m, in \u001b[1;35m_parse_resource\u001b[0m\n    self._parse(resource)\n",
            "  File \u001b[1;32m\"/usr/local/lib/python3.10/dist-packages/xmlschema/resources.py\"\u001b[0m, line \u001b[1;32m548\u001b[0m, in \u001b[1;35m_parse\u001b[0m\n    for event, node in ElementTree.iterparse(resource, events):\n",
            "  File \u001b[1;32m\"/usr/lib/python3.10/xml/etree/ElementTree.py\"\u001b[0m, line \u001b[1;32m1259\u001b[0m, in \u001b[1;35miterator\u001b[0m\n    root = pullparser._close_and_return_root()\n",
            "\u001b[0;36m  File \u001b[0;32m\"/usr/lib/python3.10/xml/etree/ElementTree.py\"\u001b[0;36m, line \u001b[0;32m1302\u001b[0;36m, in \u001b[0;35m_close_and_return_root\u001b[0;36m\u001b[0m\n\u001b[0;31m    root = self._parser.close()\u001b[0m\n",
            "\u001b[0;36m  File \u001b[0;32m\"<string>\"\u001b[0;36m, line \u001b[0;32munknown\u001b[0m\n\u001b[0;31mParseError\u001b[0m\u001b[0;31m:\u001b[0m no element found: line 42, column 0\n"
          ]
        }
      ]
    },
    {
      "cell_type": "code",
      "source": [
        "schema.validate(inputfile)"
      ],
      "metadata": {
        "colab": {
          "base_uri": "https://localhost:8080/",
          "height": 141
        },
        "id": "gYbMKAaYGbDc",
        "outputId": "0c16ca04-2072-4964-e695-e882664baf2b"
      },
      "execution_count": 38,
      "outputs": [
        {
          "output_type": "error",
          "ename": "NameError",
          "evalue": "name 'schema' is not defined",
          "traceback": [
            "\u001b[0;31m---------------------------------------------------------------------------\u001b[0m",
            "\u001b[0;31mNameError\u001b[0m                                 Traceback (most recent call last)",
            "\u001b[0;32m<ipython-input-38-54b6f1a389ea>\u001b[0m in \u001b[0;36m<cell line: 1>\u001b[0;34m()\u001b[0m\n\u001b[0;32m----> 1\u001b[0;31m \u001b[0mschema\u001b[0m\u001b[0;34m.\u001b[0m\u001b[0mvalidate\u001b[0m\u001b[0;34m(\u001b[0m\u001b[0minputfile\u001b[0m\u001b[0;34m)\u001b[0m\u001b[0;34m\u001b[0m\u001b[0;34m\u001b[0m\u001b[0m\n\u001b[0m",
            "\u001b[0;31mNameError\u001b[0m: name 'schema' is not defined"
          ]
        }
      ]
    }
  ]
}