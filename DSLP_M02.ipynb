{
  "nbformat": 4,
  "nbformat_minor": 0,
  "metadata": {
    "colab": {
      "provenance": [],
      "authorship_tag": "ABX9TyPm1YOdUJQ9pDVEDQQ7MCbp",
      "include_colab_link": true
    },
    "kernelspec": {
      "name": "python3",
      "display_name": "Python 3"
    },
    "language_info": {
      "name": "python"
    }
  },
  "cells": [
    {
      "cell_type": "markdown",
      "metadata": {
        "id": "view-in-github",
        "colab_type": "text"
      },
      "source": [
        "<a href=\"https://colab.research.google.com/github/SCS-Technology-and-Innovation/DSLP/blob/main/DSLP_M02.ipynb\" target=\"_parent\"><img src=\"https://colab.research.google.com/assets/colab-badge.svg\" alt=\"Open In Colab\"/></a>"
      ]
    },
    {
      "cell_type": "markdown",
      "source": [
        "# Document structure\n",
        "\n",
        "People will never give up on inventing new ways to structure information. A relatively modern-day take on this is XML (eXtensible Markup Language) that allows the specification of what elements a document may contain and how those elements relate to one another.\n",
        "\n",
        "If at any point you feel like you need details on XML that go beyond what is provided on this Colab sheet, [there is a neat w3schools tutorial on XML](https://www.w3schools.com/xml/xml_whatis.asp) you can consult."
      ],
      "metadata": {
        "id": "evBQlhzH2Qg-"
      }
    },
    {
      "cell_type": "code",
      "source": [
        "content = '''<?xml version=\"1.0\" ?>\n",
        "<author>\n",
        "  <name>Elisa</name>\n",
        "  <org>McGill</org>\n",
        "</author>'''\n",
        "print(content)"
      ],
      "metadata": {
        "colab": {
          "base_uri": "https://localhost:8080/"
        },
        "id": "7-8UOJ2uvy0K",
        "outputId": "d47a6e5d-c860-4a9a-9091-d88735ab58a1"
      },
      "execution_count": 1,
      "outputs": [
        {
          "output_type": "stream",
          "name": "stdout",
          "text": [
            "<?xml version=\"1.0\" ?>\n",
            "<author>\n",
            "  <name>Elisa</name>\n",
            "  <org>McGill</org>\n",
            "</author>\n"
          ]
        }
      ]
    },
    {
      "cell_type": "code",
      "source": [
        "!pip install xmltodict"
      ],
      "metadata": {
        "colab": {
          "base_uri": "https://localhost:8080/"
        },
        "id": "PfuVqdox4MRF",
        "outputId": "0200bcc2-13c5-4324-a95b-8b7a839f2285"
      },
      "execution_count": 2,
      "outputs": [
        {
          "output_type": "stream",
          "name": "stdout",
          "text": [
            "Requirement already satisfied: xmltodict in /usr/local/lib/python3.10/dist-packages (0.13.0)\n"
          ]
        }
      ]
    },
    {
      "cell_type": "code",
      "execution_count": 3,
      "metadata": {
        "id": "LZBPh6J82LZV",
        "colab": {
          "base_uri": "https://localhost:8080/"
        },
        "outputId": "5fca8dc3-7935-438d-f245-b74525f69ad2"
      },
      "outputs": [
        {
          "output_type": "stream",
          "name": "stdout",
          "text": [
            "{'author': {'name': 'Elisa', 'org': 'McGill'}}\n"
          ]
        }
      ],
      "source": [
        "from xmltodict import parse # one of many libraries to parse an XML document\n",
        "\n",
        "info = parse(content)\n",
        "print(info)"
      ]
    },
    {
      "cell_type": "code",
      "source": [
        "info['author']['org']"
      ],
      "metadata": {
        "colab": {
          "base_uri": "https://localhost:8080/",
          "height": 42
        },
        "id": "x54Hh-w2w0A2",
        "outputId": "004519ed-86ec-46c9-a01d-52ac908707a1"
      },
      "execution_count": 4,
      "outputs": [
        {
          "output_type": "execute_result",
          "data": {
            "text/plain": [
              "'McGill'"
            ],
            "application/vnd.google.colaboratory.intrinsic+json": {
              "type": "string"
            }
          },
          "metadata": {},
          "execution_count": 4
        }
      ]
    },
    {
      "cell_type": "markdown",
      "source": [
        "We could of course also store our XML document in a (plain-text) file."
      ],
      "metadata": {
        "id": "ZY9Rv_zkw8YV"
      }
    },
    {
      "cell_type": "code",
      "source": [
        "xmlurl = 'https://raw.githubusercontent.com/SCS-Technology-and-Innovation/DSLP/main/data/doc.xml'\n",
        "\n",
        "import urllib.request # an old friend from M1\n",
        "\n",
        "# file contents\n",
        "inputfile = urllib.request.urlopen(xmlurl).read()\n",
        "print(inputfile.decode())"
      ],
      "metadata": {
        "colab": {
          "base_uri": "https://localhost:8080/"
        },
        "id": "_QFhuSxk4oMj",
        "outputId": "82460730-ac00-461a-d016-35c16b36350d"
      },
      "execution_count": 5,
      "outputs": [
        {
          "output_type": "stream",
          "name": "stdout",
          "text": [
            "<?xml version=\"1.0\" encoding=\"UTF-8\"?>\n",
            "<document>\n",
            "  <author>\n",
            "    <name>Elisa</name>\n",
            "    <org>McGill</org>\n",
            "  </author>\n",
            "  <title>Example XML file</title>\n",
            "  <date>\n",
            "    <created>\n",
            "      <month>May</month>\n",
            "      <day>7</day>\n",
            "      <year>2024</year>\n",
            "    </created>\n",
            "    <updated>\n",
            "      <month>June</month>\n",
            "      <day>15</day>\n",
            "      <year>2024</year>\n",
            "    </updated>\n",
            "  </date>\n",
            "</document>\n",
            "\n"
          ]
        }
      ]
    },
    {
      "cell_type": "code",
      "source": [
        "doc = parse(inputfile)\n",
        "doc"
      ],
      "metadata": {
        "colab": {
          "base_uri": "https://localhost:8080/"
        },
        "id": "CTawgndZ40of",
        "outputId": "c51a51b6-7fb3-443b-fc75-a7d070d322ab"
      },
      "execution_count": 6,
      "outputs": [
        {
          "output_type": "execute_result",
          "data": {
            "text/plain": [
              "{'document': {'author': {'name': 'Elisa', 'org': 'McGill'},\n",
              "  'title': 'Example XML file',\n",
              "  'date': {'created': {'month': 'May', 'day': '7', 'year': '2024'},\n",
              "   'updated': {'month': 'June', 'day': '15', 'year': '2024'}}}}"
            ]
          },
          "metadata": {},
          "execution_count": 6
        }
      ]
    },
    {
      "cell_type": "markdown",
      "source": [
        "Having *parsed* the file, we can access elements of it with more ease:"
      ],
      "metadata": {
        "id": "wCQcQs4F498l"
      }
    },
    {
      "cell_type": "code",
      "source": [
        "doc['document']['title']"
      ],
      "metadata": {
        "colab": {
          "base_uri": "https://localhost:8080/",
          "height": 42
        },
        "id": "KHnVq9Qa5axj",
        "outputId": "eec69870-dc5a-434d-e21a-e9c949bc71b2"
      },
      "execution_count": 7,
      "outputs": [
        {
          "output_type": "execute_result",
          "data": {
            "text/plain": [
              "'Example XML file'"
            ],
            "application/vnd.google.colaboratory.intrinsic+json": {
              "type": "string"
            }
          },
          "metadata": {},
          "execution_count": 7
        }
      ]
    },
    {
      "cell_type": "code",
      "source": [
        "doc['document']['date']['created']['year']"
      ],
      "metadata": {
        "colab": {
          "base_uri": "https://localhost:8080/",
          "height": 42
        },
        "id": "NWcASK1F5gpK",
        "outputId": "a5e58fc5-40f7-455d-e1e1-546ef3661df7"
      },
      "execution_count": 8,
      "outputs": [
        {
          "output_type": "execute_result",
          "data": {
            "text/plain": [
              "'2024'"
            ],
            "application/vnd.google.colaboratory.intrinsic+json": {
              "type": "string"
            }
          },
          "metadata": {},
          "execution_count": 8
        }
      ]
    },
    {
      "cell_type": "markdown",
      "source": [
        "How can we establish (optional) rules on what the document should contain? There are two competing options: document type definitions (DTD) and schemas. Let's examine those in that order."
      ],
      "metadata": {
        "id": "PsnuWMDX6Rf7"
      }
    },
    {
      "cell_type": "code",
      "source": [
        "from io import StringIO\n",
        "from lxml import etree\n",
        "\n",
        "minidtd = StringIO(\"<!ELEMENT author (name,org?)>\\n<!ELEMENT name (#PCDATA)>\\n<!ELEMENT org (#PCDATA)>\")\n",
        "minixml = etree.XML(content)\n",
        "output = etree.tostring(minixml, pretty_print = True, xml_declaration = True, encoding = 'UTF-8')\n",
        "output"
      ],
      "metadata": {
        "colab": {
          "base_uri": "https://localhost:8080/"
        },
        "id": "BSeLstJjzB1b",
        "outputId": "f2f3989e-515d-4624-fb93-ff80dbb6721e"
      },
      "execution_count": 9,
      "outputs": [
        {
          "output_type": "execute_result",
          "data": {
            "text/plain": [
              "b\"<?xml version='1.0' encoding='UTF-8'?>\\n<author>\\n  <name>Elisa</name>\\n  <org>McGill</org>\\n</author>\\n\""
            ]
          },
          "metadata": {},
          "execution_count": 9
        }
      ]
    },
    {
      "cell_type": "code",
      "source": [
        "dtdv = etree.DTD(minidtd)\n",
        "dtdv.validate(minixml)"
      ],
      "metadata": {
        "colab": {
          "base_uri": "https://localhost:8080/"
        },
        "id": "vpuBHQgh0aeO",
        "outputId": "f5b9d075-0562-42f7-f5ef-4ed9cc0cf130"
      },
      "execution_count": 10,
      "outputs": [
        {
          "output_type": "execute_result",
          "data": {
            "text/plain": [
              "True"
            ]
          },
          "metadata": {},
          "execution_count": 10
        }
      ]
    },
    {
      "cell_type": "markdown",
      "source": [
        "Let's make broken ones just to see how that would behave."
      ],
      "metadata": {
        "id": "haoA9p5M1hV4"
      }
    },
    {
      "cell_type": "code",
      "source": [
        "badminidtd = StringIO(\"<!ELEMENT author (name,org?)>\\n<!ELEMENT org (#PCDATA)>\")\n",
        "dtdv2 = etree.DTD(badminidtd)\n",
        "dtdv2.validate(minixml) # same XML, incomplete DTD\n",
        "dtdv2.error_log.filter_from_errors()[0]"
      ],
      "metadata": {
        "colab": {
          "base_uri": "https://localhost:8080/"
        },
        "id": "NcIhNNy10Rg3",
        "outputId": "86722ef2-cd0d-433b-9aaf-87f184809de6"
      },
      "execution_count": 11,
      "outputs": [
        {
          "output_type": "execute_result",
          "data": {
            "text/plain": [
              "<string>:3:0:ERROR:VALID:DTD_UNKNOWN_ELEM: No declaration for element name"
            ]
          },
          "metadata": {},
          "execution_count": 11
        }
      ]
    },
    {
      "cell_type": "code",
      "source": [
        "badcontent = '''<?xml version=\"1.0\" ?>\n",
        "<author>\n",
        "  <name>Elisa</name>\n",
        "  <company>McGill</company>\n",
        "</author>'''\n",
        "badminixml = etree.XML(badcontent) # field names do not match the DTD\n",
        "dtdv.validate(badminixml)\n",
        "dtdv.error_log.filter_from_errors()[0]"
      ],
      "metadata": {
        "colab": {
          "base_uri": "https://localhost:8080/"
        },
        "id": "tMkyDar-1ykg",
        "outputId": "b2743227-39fc-419f-a267-5f1cfac93a7e"
      },
      "execution_count": 12,
      "outputs": [
        {
          "output_type": "execute_result",
          "data": {
            "text/plain": [
              "<string>:2:0:ERROR:VALID:DTD_CONTENT_MODEL: Element author content does not follow the DTD, expecting (name , org?), got (name company )"
            ]
          },
          "metadata": {},
          "execution_count": 12
        }
      ]
    },
    {
      "cell_type": "markdown",
      "source": [
        "Let's try a more complex DTD from a file."
      ],
      "metadata": {
        "id": "A9tuoL8g2ZGy"
      }
    },
    {
      "cell_type": "code",
      "source": [
        "dtdurl = 'https://raw.githubusercontent.com/SCS-Technology-and-Innovation/DSLP/main/data/doc.dtd'\n",
        "dtdcontent = urllib.request.urlopen(dtdurl).read().decode()\n",
        "print(dtdcontent)"
      ],
      "metadata": {
        "colab": {
          "base_uri": "https://localhost:8080/"
        },
        "id": "YdvkVq6S6bU9",
        "outputId": "72c8bb94-32c0-4002-de35-b36c4a71faf9"
      },
      "execution_count": 30,
      "outputs": [
        {
          "output_type": "stream",
          "name": "stdout",
          "text": [
            "<!ELEMENT document (author+,title,date)>\n",
            "<!ELEMENT author (name,org?)>\n",
            "<!ELEMENT name (#PCDATA)>\n",
            "<!ELEMENT org (#PCDATA)>\n",
            "<!ELEMENT title (#PCDATA)>\n",
            "<!ELEMENT date (created,updated?)>\n",
            "<!ELEMENT created (month,day,year)>\n",
            "<!ELEMENT updated (month,day,year)>\n",
            "<!ELEMENT month (#PCDATA)>\n",
            "<!ELEMENT day (#PCDATA)>\n",
            "<!ELEMENT year (#PCDATA)>\n",
            "\n"
          ]
        }
      ]
    },
    {
      "cell_type": "code",
      "source": [
        "xmlurl = 'https://raw.githubusercontent.com/SCS-Technology-and-Innovation/DSLP/main/data/docwithdtd.xml'\n",
        "xmlcontent = urllib.request.urlopen(xmlurl).read()\n",
        "print(xmlcontent)"
      ],
      "metadata": {
        "colab": {
          "base_uri": "https://localhost:8080/"
        },
        "id": "gti-JS9T8Urn",
        "outputId": "0f2d97f5-2734-4e67-d6bb-6385cb9abdcf"
      },
      "execution_count": 41,
      "outputs": [
        {
          "output_type": "stream",
          "name": "stdout",
          "text": [
            "b'<?xml version=\"1.0\" encoding=\"UTF-8\"?>\\n<!DOCTYPE document SYSTEM \"doc.dtd\">\\n<document>\\n  <author>\\n    <name>Elisa</name>\\n    <org>McGill</org>\\n  </author>\\n  <title>Example XML file</title>\\n  <date>\\n    <created>\\n      <month>May</month>\\n      <day>7</day>\\n      <year>2024</year>\\n    </created>\\n    <updated>\\n      <month>June</month>\\n      <day>15</day>\\n      <year>2024</year>\\n    </updated>\\n  </date>\\n</document>\\n'\n"
          ]
        }
      ]
    },
    {
      "cell_type": "markdown",
      "source": [
        "For the syntax of a DTD file, see for example [this geeksforgeeks tutorial](https://www.geeksforgeeks.org/dtd-syntax/)."
      ],
      "metadata": {
        "id": "TNQ8sUMl7Y0R"
      }
    },
    {
      "cell_type": "code",
      "source": [
        "dtd = etree.DTD(StringIO(dtdcontent))"
      ],
      "metadata": {
        "id": "UglpQtpK3ueE"
      },
      "execution_count": 35,
      "outputs": []
    },
    {
      "cell_type": "code",
      "source": [
        "docxml = etree.XML(xmlcontent)"
      ],
      "metadata": {
        "id": "YefzbZYM6sac"
      },
      "execution_count": 43,
      "outputs": []
    },
    {
      "cell_type": "code",
      "source": [
        "dtd.validate(docxml)"
      ],
      "metadata": {
        "colab": {
          "base_uri": "https://localhost:8080/"
        },
        "id": "okz2OKvI3v1h",
        "outputId": "4176e317-0c56-44b0-e41f-05410a0b482f"
      },
      "execution_count": 44,
      "outputs": [
        {
          "output_type": "execute_result",
          "data": {
            "text/plain": [
              "True"
            ]
          },
          "metadata": {},
          "execution_count": 44
        }
      ]
    },
    {
      "cell_type": "markdown",
      "source": [
        "Another alternative is to use a (more powerful) schema."
      ],
      "metadata": {
        "id": "eHUffpdgAu5b"
      }
    },
    {
      "cell_type": "code",
      "source": [
        "schurl = 'https://raw.githubusercontent.com/SCS-Technology-and-Innovation/DSLP/main/data/doc.xsd'\n",
        "schcontent = urllib.request.urlopen(schurl)\n",
        "schxml = etree.parse(schcontent)"
      ],
      "metadata": {
        "id": "zmiXion1FI9K"
      },
      "execution_count": 67,
      "outputs": []
    },
    {
      "cell_type": "code",
      "source": [
        "schema = etree.XMLSchema(schxml)"
      ],
      "metadata": {
        "id": "2lzg7Dsf_kUC"
      },
      "execution_count": 68,
      "outputs": []
    },
    {
      "cell_type": "code",
      "source": [
        "xmlurl2 = 'https://raw.githubusercontent.com/SCS-Technology-and-Innovation/DSLP/main/data/doc.xml'\n",
        "xmlcontent2 = urllib.request.urlopen(xmlurl2).read()\n",
        "docxml2 = etree.XML(xmlcontent2)\n",
        "\n",
        "schema.validate(docxml2)"
      ],
      "metadata": {
        "colab": {
          "base_uri": "https://localhost:8080/"
        },
        "id": "gYbMKAaYGbDc",
        "outputId": "ad2ed51c-50c9-4aa9-bb1c-bcf19acbcc69"
      },
      "execution_count": 73,
      "outputs": [
        {
          "output_type": "execute_result",
          "data": {
            "text/plain": [
              "True"
            ]
          },
          "metadata": {},
          "execution_count": 73
        }
      ]
    }
  ]
}